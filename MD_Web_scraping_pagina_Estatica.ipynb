{
  "nbformat": 4,
  "nbformat_minor": 0,
  "metadata": {
    "colab": {
      "provenance": [],
      "include_colab_link": true
    },
    "kernelspec": {
      "name": "python3",
      "display_name": "Python 3"
    },
    "language_info": {
      "name": "python"
    }
  },
  "cells": [
    {
      "cell_type": "markdown",
      "metadata": {
        "id": "view-in-github",
        "colab_type": "text"
      },
      "source": [
        "<a href=\"https://colab.research.google.com/github/BRAYAN142002/MineriaDeDatos-webScraping/blob/main/MD_Web_scraping_pagina_Estatica.ipynb\" target=\"_parent\"><img src=\"https://colab.research.google.com/assets/colab-badge.svg\" alt=\"Open In Colab\"/></a>"
      ]
    },
    {
      "cell_type": "markdown",
      "source": [
        "# **OBTENCIÓN DE LA NOTICIA**"
      ],
      "metadata": {
        "id": "DI-upj3BoJox"
      }
    },
    {
      "cell_type": "code",
      "execution_count": null,
      "metadata": {
        "id": "rJ0F67NJj4EB"
      },
      "outputs": [],
      "source": [
        "#Importamos las librerias necesarias para poder realizar web scraping con la url de pagina en la que vamos a indagar.\n",
        "import requests\n",
        "from bs4 import BeautifulSoup"
      ]
    },
    {
      "cell_type": "code",
      "source": [
        "#Definimos una funcion que me permite obtener las sesiones de la url indicada\n",
        "def get_session(url):\n",
        "    \"\"\"\n",
        "    Establece una sesión para la página proporcionada y devuelve la sesión y su contenido.\n",
        "    \"\"\"\n",
        "    session = requests.Session()\n",
        "    response = session.get(url)\n",
        "    response.raise_for_status()  # Verifica si la solicitud fue exitosa\n",
        "    return session, response.text"
      ],
      "metadata": {
        "id": "QzflVSURxvLt"
      },
      "execution_count": null,
      "outputs": []
    },
    {
      "cell_type": "code",
      "source": [
        "#Definimos una funcion que obtiene los links del contenido html de la pagina indicada\n",
        "def extract_links(html_content):\n",
        "    \"\"\"\n",
        "    Extrae todos los enlaces de la página proporcionada.\n",
        "    \"\"\"\n",
        "    soup = BeautifulSoup(html_content, 'html.parser')\n",
        "    links = [a['href'] for a in soup.find_all('a', href=True)]\n",
        "    return links"
      ],
      "metadata": {
        "id": "uEjJyxWZa6HA"
      },
      "execution_count": null,
      "outputs": []
    },
    {
      "cell_type": "code",
      "source": [
        "#Establecemos una funcion que recibe como parametro la sesion y los links para obtener el texto correspondiente de cada link\n",
        "def extract_text_from_links(session, links):\n",
        "    \"\"\"\n",
        "    Visita cada enlace extraído y obtiene el texto sin etiquetas.\n",
        "    \"\"\"\n",
        "    texts = []\n",
        "    for link in links:\n",
        "        try:\n",
        "            response = session.get(link)\n",
        "            response.raise_for_status()\n",
        "            soup = BeautifulSoup(response.text, 'html.parser')\n",
        "            text = soup.get_text(strip=True)\n",
        "            texts.append((link, text))\n",
        "        except requests.exceptions.RequestException as e:\n",
        "            print(f\"Error al procesar el enlace {link}: {e}\")\n",
        "    return texts"
      ],
      "metadata": {
        "id": "8q6C8P7ia8hp"
      },
      "execution_count": null,
      "outputs": []
    },
    {
      "cell_type": "code",
      "source": [
        "#Indicamos la url de la pagina de noticias en donde vamos a obtener el parrafo\n",
        "url = \"https://www.elespectador.com/tecnologia/gadgets-y-apps/estos-son-los-10-mejores-videojuegos-moviles-gratis-para-celular-de-2024/\""
      ],
      "metadata": {
        "id": "i3aA_ITHkBSc"
      },
      "execution_count": null,
      "outputs": []
    },
    {
      "cell_type": "code",
      "source": [
        "#El siguiente bloque de codigo permite obtener la noticia de la pagina indicada\n",
        "try:\n",
        "    # Realiza la solicitud GET a la URL\n",
        "    response = requests.get(url)\n",
        "    response.raise_for_status()  # Verifica si la solicitud fue exitosa\n",
        "\n",
        "    # Analiza el contenido HTML de la página\n",
        "    soup = BeautifulSoup(response.text, 'html.parser')\n",
        "\n",
        "    # Extrae el título de la noticia\n",
        "    title = soup.find('h1', class_='Title').get_text(strip=True)\n",
        "\n",
        "    # Extrae la fecha de publicación\n",
        "    date = soup.find('div', class_='Datetime').get_text(strip=True)\n",
        "\n",
        "    # Extrae el contenido de la noticia\n",
        "    content = soup.find('div', class_='Article').get_text(strip=True)\n",
        "\n",
        "    # Muestra la información extraída\n",
        "    print(f\"Título: {title}\")\n",
        "    print(f\"Fecha: {date}\")\n",
        "    print(\"Contenido:\")\n",
        "    print(content)\n",
        "\n",
        "except requests.exceptions.RequestException as e:\n",
        "    print(f\"Error al realizar la solicitud: {e}\")\n",
        "except AttributeError:\n",
        "    print(\"No se pudo extraer alguno de los elementos de la noticia.\")"
      ],
      "metadata": {
        "id": "SsqcwP9FkNaT",
        "colab": {
          "base_uri": "https://localhost:8080/"
        },
        "outputId": "904a480a-ec71-4bc6-d035-e1452329b9aa"
      },
      "execution_count": null,
      "outputs": [
        {
          "output_type": "stream",
          "name": "stdout",
          "text": [
            "Título: Estos son los 10 mejores videojuegos móviles gratis para celular de 2024\n",
            "Fecha: 10 de diciembre de 2024 - 11:30 p. m.\n",
            "Contenido:\n",
            "Existen analistas de esta industria que apuntan a que el mercado de los celulares terminará por remplazar en su totalidad al de las consolas portátiles.Foto: PexelsResume e infórmame rápidoEscucha este artículoAudio generado con IA de Google0:00/0:001xLos videojuegos son una industria desde hace más de 50 años, comenzando por los arcades o salones de juego y siguiendo con las consolas de sobremesa. Sin embargo, desde hace tres décadas los teléfonos móviles se convirtieron en una alternativa viable paras jugar títulos. Además, sin proponérselo, rivalizaron con el segmento de las consolas portátiles, popularizado por la Nintendo Game Boy en 1989, cuando sus prestaciones técnicas y gráficas los pusieron a la par de un sistema de juegos de bolsillo.Vínculos relacionadosGuía de compra: estas son las consolas y videojuegos que puede regalar en NavidadFortnite anuncia Ballistic, el nuevo juego de disparos 5c5 en primera personaAdicionalmente, la actual desatención en este mercado de dos de las tres compañías tradicionales del Gaming, Microsoft y Sony, ha provocado que otras empresas de computación, Asus y Lenovo, apuesten por su propia consola portátil. No obstante, los celulares siguen siendo la mejor manera de jugar entregas móviles, pues su tamaño, precio y otras funciones lo hacen la elección preferida de quienes quieran, de verdad, llevar sus videojuegos favoritos en el bolsillo, y no quieran costear una plataforma única y exclusivamente de Gaming.Por eso, un estudio de Statista reveló que siete de cada 10 colombianos prefieren jugar en sus celulares, que en cualquier otro sistema, sea portátil o no. El 70% de gamers en el país disfruta de este formato de entretenimiento desde su teléfono móvil, dejando muy relegados a los usuarios de consolas y computadores. En ese mismo sentido, muchos estudios de videojuegos han aprovechado para trasladar su público objetivo de las consolas a los celulares, o crear una franquicia completamente nueva.Por ejemplo,Subway Surfers(2012) sigue siendo el juego para dispositivo móvil más jugado de la historia, con 3.000 millones de jugadores. Otros casos de éxito ha sido el fenómeno cultural de 2016,Pokémon GO, con 1.000 millones de jugadores;Candy Crush(2012) con 500 millones de usuarios yAngry Birdsen 2009 con 300 millones de gamers. Es por eso queEl Espectadorle trae 10 videojuegos populares durante este 2024 que puede probar gratis en dispositivos iOS o Android antes de terminar el año.10 videojuegos gratis para celular este 2024EA Sports FC: MobileEsta lista comienza con la adaptación de una de las sagas de videojuegos más exitosas en el mercado de las consolas. Esta actualización del simulador de fútbol más famoso del mundo, publicado por Electronic Arts, es la combinación perfecta entre realismo y estilo arcade, propio de los dispositivos móviles. Eso sí, como es común en los juegos de descarga gratuita, contiene microtransacciones.Call of Duty Warzone: MobileSiguiendo con las franquicias que se hicieron grandes en las consolas,Call of Dutyes el ejemplo perfecto de que los celulares pueden ser un gran vehículo para expandir la fama de una marca. Apoyado en su modo de juego online y la vigencia de su contenido, la versión móvil de la saga bélica más exitosa de todos los tiempos es un muy buen primer paso para quienes son nuevos en el Gaming.Pokémon UnitePuede quePokémon GOhaya sido el juego para celular más exitoso de la serie, pero lo cierto es que el nombre Pokémon lleva siendo popular en los videojuegos desde hace décadas. Apalancado en una jugabilidad que se adapta a los celulares y el respaldo de la casa de Mario, este videojuego es una de las experiencias más cercanas a tener una Nintendo Switch, sin tener una Switch.Asphalt 9: LegendsNo podía faltar una propuesta de carros, carreras y adrenalina. Este título es la secuela del videojuego español mejor valorado por Metacritic, y aunque no tiene tan buenas referencias como su predecesor, es la versión más reciente de una saga famosa entre los gamers de celular. Además, aprovecha muy bien las bondades visuales de las nuevas pantallas y los coches parecen casi salirse del recuadro.SimCity BuildltOtra vez Electronic Arts aparece para brindarle a los usuarios de dispositivos móviles la versión para edificios deThe Sims. Se trata de un simulador de construcción tan realista que el jugador tendrá que cuidar cómo, hacia dónde y con qué rapidez crece su ciudad. Una oportunidad de sentirse como el amo y señor de una urbe moderna, o al menos en la que le gustaría vivir.PUBG New StateUn videojuego multijugador en línea de Battle royale desarrollado por PUBG Studios y publicado por Krafton es sinónimo de éxito en el negocio de los celulares; por esoPUBG New Statees uno de los juegos más famosos del año. Esta propuesta sigue la fórmula que lleva años siendo rentable y que parece estarse trasladando a los títulos de consola y PC.Among Us!Hay juegos que recuerdan una época en específico yAmong Us!es uno de esos. La pandemia del Covid-19 estuvo marcada por el aislamiento mundial y eso llevó a que los juegos cooperativos en línea se popularizaran entre esos amigos que llevaban meses sin verse. Aun cuatro años después del confinamiento sigue siendo divertido encontrar al impostor dentro de la nave espacial.Monument ValleyComo si se tratará de una nueva película o serie original, Netflix anunció este año con bombos y platillosMonument Valley, uno de sus primeros juegos desarrollado por ellos mismos. Se trata de un rompecabezas que no sigue las reglas tradicionales de este tipo de títulos, pero que tiene un apartado visual que lo convierte en uno de los mejores en su género y especialmente para celulares.GTA: TrilogyAntes de llegar al final había que dejar un espacio para una franquicia que ha conquistado gamers en todos los segmentos posibles,Grand Theft Auto. Esta saga ha marcado un antes y un después en la manera de hacer entregas de mundo abierto y en esta ocasión traeGTA III,GTA San AndreasyGTA Vice Cityen un solo archivo e incluido en el catálogo de Netflix Games.Football Manager 2024: MobileFinalmente, llegamos al final de esta lista con el mismo tema con el que comenzó, fútbol. Este videojuego también hace parte del repertorio de Netflix y explora la manera de dirigir un club, desde escoger la estrategia para cada partido, hasta cómo presupuestar cada dólar disponible. Eso sí, todo esto a disposición de los gamers de celular, completamente gratis y con una experiencia cercana a la de un modo carrera en consola.Por Redacción TecnologíaTemas recomendados:Estilo de VidaVideojuegosjuegos para celularmejores juegos para celularjuegos para celular gratisjuegos en iPhonejuegos en AndroidSin comentarios aún.Suscribete e inicia la conversación\n"
          ]
        }
      ]
    },
    {
      "cell_type": "code",
      "source": [
        "#El siguiente bloque de codigo permite obtener la sesion de la pagina\n",
        "try:\n",
        "    # Obtenemos la sesión y el contenido HTML de la página principal\n",
        "    session, html_content = get_session(url)\n",
        "\n",
        "    # Extraemos los enlaces de la página\n",
        "    links = extract_links(html_content)\n",
        "    print(\"\\nEnlaces extraídos:\")\n",
        "    for link in links:\n",
        "        print(link)\n",
        "\n",
        "    # Extrae el texto de cada enlace\n",
        "    texts_from_links = extract_text_from_links(session, links)\n",
        "    print(\"\\nTextos de los enlaces:\")\n",
        "    for link, text in texts_from_links:\n",
        "        print(f\"Enlace: {link}\")\n",
        "        print(f\"Texto: {text[:200]}...\\n\")  # Muestra los primeros 200 caracteres de texto\n",
        "\n",
        "except requests.exceptions.RequestException as e:\n",
        "    print(f\"Error al realizar la solicitud: {e}\")"
      ],
      "metadata": {
        "colab": {
          "base_uri": "https://localhost:8080/"
        },
        "collapsed": true,
        "id": "Q4qLU5k9bDEZ",
        "outputId": "bbea4c7e-8bd9-4156-fad1-ac619428a495"
      },
      "execution_count": null,
      "outputs": [
        {
          "output_type": "stream",
          "name": "stdout",
          "text": [
            "\n",
            "Enlaces extraídos:\n",
            "/newsletters/?utm_source=interno&utm_medium=boton&utm_campaign=menu_hamburguesa&utm_content=boton_menu_hamburguesa\n",
            "/contenido-patrocinado/?utm_source=interno&utm_medium=boton&utm_campaign=menu_hamburguesa&utm_content=boton_menu_hamburguesa\n",
            "/ultimas-noticias-colombia/?utm_source=interno&utm_medium=boton&utm_campaign=menu_hamburguesa&utm_content=boton_menu_hamburguesa\n",
            "/politica/?utm_source=interno&utm_medium=boton&utm_campaign=menu_hamburguesa&utm_content=boton_menu_hamburguesa\n",
            "https://congresoalamano.elespectador.com/?utm_source=interno&utm_medium=boton&utm_campaign=menu_hamburguesa&utm_content=boton_menu_hamburguesa\n",
            "/judicial/?utm_source=interno&utm_medium=boton&utm_campaign=menu_hamburguesa&utm_content=boton_menu_hamburguesa\n",
            "/economia/?utm_source=interno&utm_medium=boton&utm_campaign=menu_hamburguesa&utm_content=boton_menu_hamburguesa\n",
            "/economia/finanzas-personales/?utm_source=interno&utm_medium=boton&utm_campaign=menu_hamburguesa&utm_content=boton_menu_hamburguesa\n",
            "/economia/macroeconomia/?utm_source=interno&utm_medium=boton&utm_campaign=menu_hamburguesa&utm_content=boton_menu_hamburguesa\n",
            "/economia/empresas/?utm_source=interno&utm_medium=boton&utm_campaign=menu_hamburguesa&utm_content=boton_menu_hamburguesa\n",
            "/economia/emprendimiento-y-liderazgo/?utm_source=interno&utm_medium=boton&utm_campaign=menu_hamburguesa&utm_content=boton_menu_hamburguesa\n",
            "/mundo/?utm_source=interno&utm_medium=boton&utm_campaign=menu_hamburguesa&utm_content=boton_menu_hamburguesa\n",
            "/mundo/venezuela/?utm_source=interno&utm_medium=boton&utm_campaign=menu_hamburguesa&utm_content=boton_menu_hamburguesa\n",
            "/mundo/america/?utm_source=interno&utm_medium=boton&utm_campaign=menu_hamburguesa&utm_content=boton_menu_hamburguesa\n",
            "/mundo/europa/?utm_source=interno&utm_medium=boton&utm_campaign=menu_hamburguesa&utm_content=boton_menu_hamburguesa\n",
            "/mundo/mas-paises/?utm_source=interno&utm_medium=boton&utm_campaign=menu_hamburguesa&utm_content=boton_menu_hamburguesa\n",
            "/bogota/?utm_source=interno&utm_medium=boton&utm_campaign=menu_hamburguesa&utm_content=boton_menu_hamburguesa\n",
            "/entretenimiento/?utm_source=interno&utm_medium=boton&utm_campaign=menu_hamburguesa&utm_content=boton_menu_hamburguesa\n",
            "/entretenimiento/musica/?utm_source=interno&utm_medium=boton&utm_campaign=menu_hamburguesa&utm_content=boton_menu_hamburguesa\n",
            "/entretenimiento/cine-y-tv/?utm_source=interno&utm_medium=boton&utm_campaign=menu_hamburguesa&utm_content=boton_menu_hamburguesa\n",
            "/entretenimiento/gente/?utm_source=interno&utm_medium=boton&utm_campaign=menu_hamburguesa&utm_content=boton_menu_hamburguesa\n",
            "/entretenimiento/horoscopo/?utm_source=interno&utm_medium=boton&utm_campaign=menu_hamburguesa&utm_content=boton_menu_hamburguesa\n",
            "/entretenimiento/tarot-de-mave/?utm_source=interno&utm_medium=boton&utm_campaign=menu_hamburguesa&utm_content=boton_menu_hamburguesa\n",
            "/deportes/?utm_source=interno&utm_medium=boton&utm_campaign=menu_hamburguesa&utm_content=boton_menu_hamburguesa\n",
            "/deportes/futbol-colombiano/?utm_source=interno&utm_medium=boton&utm_campaign=menu_hamburguesa&utm_content=boton_menu_hamburguesa\n",
            "/deportes/futbol-colombiano/millonarios/?utm_source=interno&utm_medium=boton&utm_campaign=menu_hamburguesa&utm_content=boton_menu_hamburguesa\n",
            "/deportes/futbol-colombiano/santa-fe/?utm_source=interno&utm_medium=boton&utm_campaign=menu_hamburguesa&utm_content=boton_menu_hamburguesa\n",
            "/deportes/futbol-colombiano/america-de-cali/?utm_source=interno&utm_medium=boton&utm_campaign=menu_hamburguesa&utm_content=boton_menu_hamburguesa\n",
            "/deportes/futbol-colombiano/atletico-nacional/?utm_source=interno&utm_medium=boton&utm_campaign=menu_hamburguesa&utm_content=boton_menu_hamburguesa\n",
            "/deportes/futbol-colombiano/junior-fc/?utm_source=interno&utm_medium=boton&utm_campaign=menu_hamburguesa&utm_content=boton_menu_hamburguesa\n",
            "/deportes/futbol-colombiano/otros-equipos/?utm_source=interno&utm_medium=boton&utm_campaign=menu_hamburguesa&utm_content=boton_menu_hamburguesa\n",
            "/deportes/seleccion-colombia/?utm_source=interno&utm_medium=boton&utm_campaign=menu_hamburguesa&utm_content=boton_menu_hamburguesa\n",
            "/deportes/futbol-mundial/?utm_source=interno&utm_medium=boton&utm_campaign=menu_hamburguesa&utm_content=boton_menu_hamburguesa\n",
            "/deportes/ciclismo/?utm_source=interno&utm_medium=boton&utm_campaign=menu_hamburguesa&utm_content=boton_menu_hamburguesa\n",
            "/deportes/mas-deportes/?utm_source=interno&utm_medium=boton&utm_campaign=menu_hamburguesa&utm_content=boton_menu_hamburguesa\n",
            "/deportes/analistas/?utm_source=interno&utm_medium=boton&utm_campaign=menu_hamburguesa&utm_content=boton_menu_hamburguesa\n",
            "/colombia/?utm_source=interno&utm_medium=boton&utm_campaign=menu_hamburguesa&utm_content=boton_menu_hamburguesa\n",
            "/colombia/mas-regiones/?utm_source=interno&utm_medium=boton&utm_campaign=menu_hamburguesa&utm_content=boton_menu_hamburguesa\n",
            "/colombia/medellin/?utm_source=interno&utm_medium=boton&utm_campaign=menu_hamburguesa&utm_content=boton_menu_hamburguesa\n",
            "/colombia/cali/?utm_source=interno&utm_medium=boton&utm_campaign=menu_hamburguesa&utm_content=boton_menu_hamburguesa\n",
            "/colombia/barranquilla/?utm_source=interno&utm_medium=boton&utm_campaign=menu_hamburguesa&utm_content=boton_menu_hamburguesa\n",
            "/colombia/cartagena/?utm_source=interno&utm_medium=boton&utm_campaign=menu_hamburguesa&utm_content=boton_menu_hamburguesa\n",
            "/colombia/cundinamarca/?utm_source=interno&utm_medium=boton&utm_campaign=menu_hamburguesa&utm_content=boton_menu_hamburguesa\n",
            "/el-magazin-cultural/?utm_source=interno&utm_medium=boton&utm_campaign=menu_hamburguesa&utm_content=boton_menu_hamburguesa\n",
            "/el-magazin-cultural/la-suma-de-las-voces/?utm_source=interno&utm_medium=boton&utm_campaign=menu_hamburguesa&utm_content=boton_menu_hamburguesa\n",
            "/salud/?utm_source=interno&utm_medium=boton&utm_campaign=menu_hamburguesa&utm_content=boton_menu_hamburguesa\n",
            "/ambiente/?utm_source=interno&utm_medium=boton&utm_campaign=menu_hamburguesa&utm_content=boton_menu_hamburguesa\n",
            "/ambiente/ruta-a-la-cop16/?utm_source=interno&utm_medium=boton&utm_campaign=menu_hamburguesa&utm_content=boton_menu_hamburguesa\n",
            "/ambiente/bibo/?utm_source=interno&utm_medium=boton&utm_campaign=menu_hamburguesa&utm_content=boton_menu_hamburguesa\n",
            "/ambiente/bibo/fasciculos-bibo-2022/?utm_source=interno&utm_medium=boton&utm_campaign=menu_hamburguesa&utm_content=boton_menu_hamburguesa\n",
            "/ambiente/bibo/premio-bibo-2022-mejores-practicas-ambientales/?utm_source=interno&utm_medium=boton&utm_campaign=menu_hamburguesa&utm_content=boton_menu_hamburguesa\n",
            "/ambiente/bibo/encuentros-por-el-agua-2022/?utm_source=interno&utm_medium=boton&utm_campaign=menu_hamburguesa&utm_content=boton_menu_hamburguesa\n",
            "/ambiente/amazonas/?utm_source=interno&utm_medium=boton&utm_campaign=menu_hamburguesa&utm_content=boton_menu_hamburguesa\n",
            "/ambiente/blog-el-rio/?utm_source=interno&utm_medium=boton&utm_campaign=menu_hamburguesa&utm_content=boton_menu_hamburguesa\n",
            "/investigacion/?utm_source=interno&utm_medium=boton&utm_campaign=menu_hamburguesa&utm_content=boton_menu_hamburguesa\n",
            "/educacion/?utm_source=interno&utm_medium=boton&utm_campaign=menu_hamburguesa&utm_content=boton_menu_hamburguesa\n",
            "/ciencia/?utm_source=interno&utm_medium=boton&utm_campaign=menu_hamburguesa&utm_content=boton_menu_hamburguesa\n",
            "/genero-y-diversidad/?utm_source=interno&utm_medium=boton&utm_campaign=menu_hamburguesa&utm_content=boton_menu_hamburguesa\n",
            "/genero-y-diversidad/la-disidencia/?utm_source=interno&utm_medium=boton&utm_campaign=menu_hamburguesa&utm_content=boton_menu_hamburguesa\n",
            "/genero-y-diversidad/las-igualadas/?utm_source=interno&utm_medium=boton&utm_campaign=menu_hamburguesa&utm_content=boton_menu_hamburguesa\n",
            "/tecnologia/?utm_source=interno&utm_medium=boton&utm_campaign=menu_hamburguesa&utm_content=boton_menu_hamburguesa\n",
            "/tecnologia/gadgets-y-apps/?utm_source=interno&utm_medium=boton&utm_campaign=menu_hamburguesa&utm_content=boton_menu_hamburguesa\n",
            "/actualidad/?utm_source=interno&utm_medium=boton&utm_campaign=menu_hamburguesa&utm_content=boton_menu_hamburguesa\n",
            "/reportajes/?utm_source=interno&utm_medium=boton&utm_campaign=menu_hamburguesa&utm_content=boton_menu_hamburguesa\n",
            "/historias-visuales/?utm_source=interno&utm_medium=boton&utm_campaign=menu_hamburguesa&utm_content=boton_menu_hamburguesa\n",
            "/colecciones/?utm_source=interno&utm_medium=boton&utm_campaign=menu_hamburguesa&utm_content=boton_menu_hamburguesa\n",
            "/podcast-espanol-el-espectador/?utm_source=interno&utm_medium=boton&utm_campaign=menu_hamburguesa&utm_content=boton_menu_hamburguesa\n",
            "/cromos/?utm_source=interno&utm_medium=boton&utm_campaign=menu_hamburguesa&utm_content=boton_menu_hamburguesa\n",
            "/cromos/estilo-de-vida/?utm_source=interno&utm_medium=boton&utm_campaign=menu_hamburguesa&utm_content=boton_menu_hamburguesa\n",
            "/cromos/sexualidad/?utm_source=interno&utm_medium=boton&utm_campaign=menu_hamburguesa&utm_content=boton_menu_hamburguesa\n",
            "/cromos/maternidad/?utm_source=interno&utm_medium=boton&utm_campaign=menu_hamburguesa&utm_content=boton_menu_hamburguesa\n",
            "/cromos/vida-sana/?utm_source=interno&utm_medium=boton&utm_campaign=menu_hamburguesa&utm_content=boton_menu_hamburguesa\n",
            "/cromos/moda/?utm_source=interno&utm_medium=boton&utm_campaign=menu_hamburguesa&utm_content=boton_menu_hamburguesa\n",
            "/cromos/famosos/?utm_source=interno&utm_medium=boton&utm_campaign=menu_hamburguesa&utm_content=boton_menu_hamburguesa\n",
            "/cromos/astrologia/?utm_source=interno&utm_medium=boton&utm_campaign=menu_hamburguesa&utm_content=boton_menu_hamburguesa\n",
            "/revista-vea/?utm_source=interno&utm_medium=boton&utm_campaign=menu_hamburguesa&utm_content=boton_menu_hamburguesa\n",
            "/revista-vea/lo-ultimo/?utm_source=interno&utm_medium=boton&utm_campaign=menu_hamburguesa&utm_content=boton_menu_hamburguesa\n",
            "/revista-vea/famosos/?utm_source=interno&utm_medium=boton&utm_campaign=menu_hamburguesa&utm_content=boton_menu_hamburguesa\n",
            "/revista-vea/realeza/?utm_source=interno&utm_medium=boton&utm_campaign=menu_hamburguesa&utm_content=boton_menu_hamburguesa\n",
            "/revista-vea/peliculas-series-y-novelas/?utm_source=interno&utm_medium=boton&utm_campaign=menu_hamburguesa&utm_content=boton_menu_hamburguesa\n",
            "/revista-vea/cocina/?utm_source=interno&utm_medium=boton&utm_campaign=menu_hamburguesa&utm_content=boton_menu_hamburguesa\n",
            "/revista-vea/los-astros-y-las-estrellas/?utm_source=interno&utm_medium=boton&utm_campaign=menu_hamburguesa&utm_content=boton_menu_hamburguesa\n",
            "https://twitter.com/elespectador\n",
            "https://www.facebook.com/elespectadorcom\n",
            "https://www.instagram.com/elespectador\n",
            "https://www.youtube.com/user/Elespectadorcom\n",
            "https://www.tiktok.com/@elespectador\n",
            "/terminos/terminos-y-condiciones\n",
            "/terminos/politica-de-tratamiento-de-datos\n",
            "/\n",
            "/ultimas-noticias-colombia/?utm_source=interno&utm_medium=boton&utm_campaign=menu_horizontal&utm_content=boton_menu_horizontal\n",
            "/opinion/?utm_source=interno&utm_medium=boton&utm_campaign=menu_horizontal&utm_content=boton_menu_horizontal\n",
            "/politica/?utm_source=interno&utm_medium=boton&utm_campaign=menu_horizontal&utm_content=boton_menu_horizontal\n",
            "/judicial/?utm_source=interno&utm_medium=boton&utm_campaign=menu_horizontal&utm_content=boton_menu_horizontal\n",
            "/economia/?utm_source=interno&utm_medium=boton&utm_campaign=menu_horizontal&utm_content=boton_menu_horizontal\n",
            "/mundo/?utm_source=interno&utm_medium=boton&utm_campaign=menu_horizontal&utm_content=boton_menu_horizontal\n",
            "/bogota/?utm_source=interno&utm_medium=boton&utm_campaign=menu_horizontal&utm_content=boton_menu_horizontal\n",
            "/deportes/?utm_source=interno&utm_medium=boton&utm_campaign=menu_horizontal&utm_content=boton_menu_horizontal\n",
            "/colombia-20/?utm_source=interno&utm_medium=boton&utm_campaign=menu_horizontal&utm_content=boton_menu_col-20\n",
            "/cromos/?utm_source=interno&utm_medium=boton&utm_campaign=menu_horizontal&utm_content=boton_menu_horizontal\n",
            "/revista-vea/?utm_source=interno&utm_medium=boton&utm_campaign=menu_horizontal&utm_content=boton_menu_horizontal\n",
            "/\n",
            "/tecnologia/\n",
            "/tecnologia/gadgets-y-apps/\n",
            "/autores/Redacción Tecnología\n",
            "\n",
            "#comments\n",
            "https://whatsapp.com/channel/0029VZzbXdXLSmbdQGUY8H02\n",
            "/tecnologia/gadgets-y-apps/consolas-y-videojuegos-que-puede-regalar-en-navidad-guia-de-compra/\n",
            "/tecnologia/gadgets-y-apps/fortnite-anuncia-ballistic-el-nuevo-juego-de-disparos-5c5-en-primera-persona/\n",
            "/autores/Redacción Tecnología/\n",
            "/tags/estilo-de-vida/\n",
            "/tags/videojuegos/\n",
            "/tags/juegos-para-celular/\n",
            "/tags/mejores-juegos-para-celular/\n",
            "/tags/juegos-para-celular-gratis/\n",
            "/tags/juegos-en-iphone/\n",
            "/tags/juegos-en-android/\n",
            "/\n",
            "https://twitter.com/elespectador\n",
            "https://www.facebook.com/elespectadorcom\n",
            "https://www.instagram.com/elespectador/\n",
            "https://www.youtube.com/user/Elespectadorcom?sub_confirmation=1\n",
            "https://www.tiktok.com/@elespectador\n",
            "/mapa-del-sitio/\n",
            "https://suscripciones.elespectador.com/\n",
            "/suscripcion-digital/\n",
            "https://api.whatsapp.com/send/?phone=576014232300&text&app_absent=0\n",
            "/ayuda-el-espectador/\n",
            "/terminos/politica-de-tratamiento-de-datos/\n",
            "/terminos/terminos-y-condiciones/\n",
            "/terminos/politicas-de-PTEE-y-Sagrilaft/\n",
            "https://www.caracoltv.com/regias/famosos?utm_source=elespectador.com&utm_medium=referral&utm_campaign=footer-EE\n",
            "https://noticias.caracoltv.com/colombia?utm_source=elespectador.com&utm_medium=referral&utm_campaign=footer-EE\n",
            "https://gol.caracoltv.com/noticias-futbol?utm_source=elespectador.com&utm_medium=referral&utm_campaign=footer-EE\n",
            "https://www.bluradio.com/bogota?utm_source=elespectador.com&utm_medium=referral&utm_campaign=footer-EE\n",
            "https://www.shock.co/musica/?utm_source=elespectador.com&utm_medium=referral&utm_campaign=footer-EE\n",
            "https://lakalle.bluradio.com/noticias?utm_source=elespectador.com&utm_medium=referral&utm_campaign=footer-EE\n",
            "https://hjck.com/?utm_source=elespectador.com&utm_medium=referral&utm_campaign=footer-EE\n",
            "https://www.volkgames.com/noticias/?utm_source=elespectador.com&utm_medium=referral&utm_campaign=footer-EE\n",
            "https://play.caracoltv.com/series?utm_source=elespectador.com&utm_medium=referral&utm_campaign=footer-EE\n",
            "https://www.caracolnext.com/?utm_source=elespectador.com&utm_medium=referral&utm_campaign=footer-EE\n",
            "https://www.caracoltvcorporativo.com/?utm_source=elespectador.com&utm_medium=referral&utm_campaign=footer-EE\n",
            "https://www.caracolinternacional.com/?utm_source=elespectador.com&utm_medium=referral&utm_campaign=footer-EE\n",
            "mailto:aclaracionesyrectificaciones@elespectador.com\n",
            "https://www.iabcolombia.com/\n",
            "https://www.sic.gov.co/\n",
            "https://ami.org.co/\n",
            "/terminos/politica-de-uso-de-cookies/\n",
            "Error al procesar el enlace /newsletters/?utm_source=interno&utm_medium=boton&utm_campaign=menu_hamburguesa&utm_content=boton_menu_hamburguesa: Invalid URL '/newsletters/?utm_source=interno&utm_medium=boton&utm_campaign=menu_hamburguesa&utm_content=boton_menu_hamburguesa': No scheme supplied. Perhaps you meant https:///newsletters/?utm_source=interno&utm_medium=boton&utm_campaign=menu_hamburguesa&utm_content=boton_menu_hamburguesa?\n",
            "Error al procesar el enlace /contenido-patrocinado/?utm_source=interno&utm_medium=boton&utm_campaign=menu_hamburguesa&utm_content=boton_menu_hamburguesa: Invalid URL '/contenido-patrocinado/?utm_source=interno&utm_medium=boton&utm_campaign=menu_hamburguesa&utm_content=boton_menu_hamburguesa': No scheme supplied. Perhaps you meant https:///contenido-patrocinado/?utm_source=interno&utm_medium=boton&utm_campaign=menu_hamburguesa&utm_content=boton_menu_hamburguesa?\n",
            "Error al procesar el enlace /ultimas-noticias-colombia/?utm_source=interno&utm_medium=boton&utm_campaign=menu_hamburguesa&utm_content=boton_menu_hamburguesa: Invalid URL '/ultimas-noticias-colombia/?utm_source=interno&utm_medium=boton&utm_campaign=menu_hamburguesa&utm_content=boton_menu_hamburguesa': No scheme supplied. Perhaps you meant https:///ultimas-noticias-colombia/?utm_source=interno&utm_medium=boton&utm_campaign=menu_hamburguesa&utm_content=boton_menu_hamburguesa?\n",
            "Error al procesar el enlace /politica/?utm_source=interno&utm_medium=boton&utm_campaign=menu_hamburguesa&utm_content=boton_menu_hamburguesa: Invalid URL '/politica/?utm_source=interno&utm_medium=boton&utm_campaign=menu_hamburguesa&utm_content=boton_menu_hamburguesa': No scheme supplied. Perhaps you meant https:///politica/?utm_source=interno&utm_medium=boton&utm_campaign=menu_hamburguesa&utm_content=boton_menu_hamburguesa?\n",
            "Error al procesar el enlace /judicial/?utm_source=interno&utm_medium=boton&utm_campaign=menu_hamburguesa&utm_content=boton_menu_hamburguesa: Invalid URL '/judicial/?utm_source=interno&utm_medium=boton&utm_campaign=menu_hamburguesa&utm_content=boton_menu_hamburguesa': No scheme supplied. Perhaps you meant https:///judicial/?utm_source=interno&utm_medium=boton&utm_campaign=menu_hamburguesa&utm_content=boton_menu_hamburguesa?\n",
            "Error al procesar el enlace /economia/?utm_source=interno&utm_medium=boton&utm_campaign=menu_hamburguesa&utm_content=boton_menu_hamburguesa: Invalid URL '/economia/?utm_source=interno&utm_medium=boton&utm_campaign=menu_hamburguesa&utm_content=boton_menu_hamburguesa': No scheme supplied. Perhaps you meant https:///economia/?utm_source=interno&utm_medium=boton&utm_campaign=menu_hamburguesa&utm_content=boton_menu_hamburguesa?\n",
            "Error al procesar el enlace /economia/finanzas-personales/?utm_source=interno&utm_medium=boton&utm_campaign=menu_hamburguesa&utm_content=boton_menu_hamburguesa: Invalid URL '/economia/finanzas-personales/?utm_source=interno&utm_medium=boton&utm_campaign=menu_hamburguesa&utm_content=boton_menu_hamburguesa': No scheme supplied. Perhaps you meant https:///economia/finanzas-personales/?utm_source=interno&utm_medium=boton&utm_campaign=menu_hamburguesa&utm_content=boton_menu_hamburguesa?\n",
            "Error al procesar el enlace /economia/macroeconomia/?utm_source=interno&utm_medium=boton&utm_campaign=menu_hamburguesa&utm_content=boton_menu_hamburguesa: Invalid URL '/economia/macroeconomia/?utm_source=interno&utm_medium=boton&utm_campaign=menu_hamburguesa&utm_content=boton_menu_hamburguesa': No scheme supplied. Perhaps you meant https:///economia/macroeconomia/?utm_source=interno&utm_medium=boton&utm_campaign=menu_hamburguesa&utm_content=boton_menu_hamburguesa?\n",
            "Error al procesar el enlace /economia/empresas/?utm_source=interno&utm_medium=boton&utm_campaign=menu_hamburguesa&utm_content=boton_menu_hamburguesa: Invalid URL '/economia/empresas/?utm_source=interno&utm_medium=boton&utm_campaign=menu_hamburguesa&utm_content=boton_menu_hamburguesa': No scheme supplied. Perhaps you meant https:///economia/empresas/?utm_source=interno&utm_medium=boton&utm_campaign=menu_hamburguesa&utm_content=boton_menu_hamburguesa?\n",
            "Error al procesar el enlace /economia/emprendimiento-y-liderazgo/?utm_source=interno&utm_medium=boton&utm_campaign=menu_hamburguesa&utm_content=boton_menu_hamburguesa: Invalid URL '/economia/emprendimiento-y-liderazgo/?utm_source=interno&utm_medium=boton&utm_campaign=menu_hamburguesa&utm_content=boton_menu_hamburguesa': No scheme supplied. Perhaps you meant https:///economia/emprendimiento-y-liderazgo/?utm_source=interno&utm_medium=boton&utm_campaign=menu_hamburguesa&utm_content=boton_menu_hamburguesa?\n",
            "Error al procesar el enlace /mundo/?utm_source=interno&utm_medium=boton&utm_campaign=menu_hamburguesa&utm_content=boton_menu_hamburguesa: Invalid URL '/mundo/?utm_source=interno&utm_medium=boton&utm_campaign=menu_hamburguesa&utm_content=boton_menu_hamburguesa': No scheme supplied. Perhaps you meant https:///mundo/?utm_source=interno&utm_medium=boton&utm_campaign=menu_hamburguesa&utm_content=boton_menu_hamburguesa?\n",
            "Error al procesar el enlace /mundo/venezuela/?utm_source=interno&utm_medium=boton&utm_campaign=menu_hamburguesa&utm_content=boton_menu_hamburguesa: Invalid URL '/mundo/venezuela/?utm_source=interno&utm_medium=boton&utm_campaign=menu_hamburguesa&utm_content=boton_menu_hamburguesa': No scheme supplied. Perhaps you meant https:///mundo/venezuela/?utm_source=interno&utm_medium=boton&utm_campaign=menu_hamburguesa&utm_content=boton_menu_hamburguesa?\n",
            "Error al procesar el enlace /mundo/america/?utm_source=interno&utm_medium=boton&utm_campaign=menu_hamburguesa&utm_content=boton_menu_hamburguesa: Invalid URL '/mundo/america/?utm_source=interno&utm_medium=boton&utm_campaign=menu_hamburguesa&utm_content=boton_menu_hamburguesa': No scheme supplied. Perhaps you meant https:///mundo/america/?utm_source=interno&utm_medium=boton&utm_campaign=menu_hamburguesa&utm_content=boton_menu_hamburguesa?\n",
            "Error al procesar el enlace /mundo/europa/?utm_source=interno&utm_medium=boton&utm_campaign=menu_hamburguesa&utm_content=boton_menu_hamburguesa: Invalid URL '/mundo/europa/?utm_source=interno&utm_medium=boton&utm_campaign=menu_hamburguesa&utm_content=boton_menu_hamburguesa': No scheme supplied. Perhaps you meant https:///mundo/europa/?utm_source=interno&utm_medium=boton&utm_campaign=menu_hamburguesa&utm_content=boton_menu_hamburguesa?\n",
            "Error al procesar el enlace /mundo/mas-paises/?utm_source=interno&utm_medium=boton&utm_campaign=menu_hamburguesa&utm_content=boton_menu_hamburguesa: Invalid URL '/mundo/mas-paises/?utm_source=interno&utm_medium=boton&utm_campaign=menu_hamburguesa&utm_content=boton_menu_hamburguesa': No scheme supplied. Perhaps you meant https:///mundo/mas-paises/?utm_source=interno&utm_medium=boton&utm_campaign=menu_hamburguesa&utm_content=boton_menu_hamburguesa?\n",
            "Error al procesar el enlace /bogota/?utm_source=interno&utm_medium=boton&utm_campaign=menu_hamburguesa&utm_content=boton_menu_hamburguesa: Invalid URL '/bogota/?utm_source=interno&utm_medium=boton&utm_campaign=menu_hamburguesa&utm_content=boton_menu_hamburguesa': No scheme supplied. Perhaps you meant https:///bogota/?utm_source=interno&utm_medium=boton&utm_campaign=menu_hamburguesa&utm_content=boton_menu_hamburguesa?\n",
            "Error al procesar el enlace /entretenimiento/?utm_source=interno&utm_medium=boton&utm_campaign=menu_hamburguesa&utm_content=boton_menu_hamburguesa: Invalid URL '/entretenimiento/?utm_source=interno&utm_medium=boton&utm_campaign=menu_hamburguesa&utm_content=boton_menu_hamburguesa': No scheme supplied. Perhaps you meant https:///entretenimiento/?utm_source=interno&utm_medium=boton&utm_campaign=menu_hamburguesa&utm_content=boton_menu_hamburguesa?\n",
            "Error al procesar el enlace /entretenimiento/musica/?utm_source=interno&utm_medium=boton&utm_campaign=menu_hamburguesa&utm_content=boton_menu_hamburguesa: Invalid URL '/entretenimiento/musica/?utm_source=interno&utm_medium=boton&utm_campaign=menu_hamburguesa&utm_content=boton_menu_hamburguesa': No scheme supplied. Perhaps you meant https:///entretenimiento/musica/?utm_source=interno&utm_medium=boton&utm_campaign=menu_hamburguesa&utm_content=boton_menu_hamburguesa?\n",
            "Error al procesar el enlace /entretenimiento/cine-y-tv/?utm_source=interno&utm_medium=boton&utm_campaign=menu_hamburguesa&utm_content=boton_menu_hamburguesa: Invalid URL '/entretenimiento/cine-y-tv/?utm_source=interno&utm_medium=boton&utm_campaign=menu_hamburguesa&utm_content=boton_menu_hamburguesa': No scheme supplied. Perhaps you meant https:///entretenimiento/cine-y-tv/?utm_source=interno&utm_medium=boton&utm_campaign=menu_hamburguesa&utm_content=boton_menu_hamburguesa?\n",
            "Error al procesar el enlace /entretenimiento/gente/?utm_source=interno&utm_medium=boton&utm_campaign=menu_hamburguesa&utm_content=boton_menu_hamburguesa: Invalid URL '/entretenimiento/gente/?utm_source=interno&utm_medium=boton&utm_campaign=menu_hamburguesa&utm_content=boton_menu_hamburguesa': No scheme supplied. Perhaps you meant https:///entretenimiento/gente/?utm_source=interno&utm_medium=boton&utm_campaign=menu_hamburguesa&utm_content=boton_menu_hamburguesa?\n",
            "Error al procesar el enlace /entretenimiento/horoscopo/?utm_source=interno&utm_medium=boton&utm_campaign=menu_hamburguesa&utm_content=boton_menu_hamburguesa: Invalid URL '/entretenimiento/horoscopo/?utm_source=interno&utm_medium=boton&utm_campaign=menu_hamburguesa&utm_content=boton_menu_hamburguesa': No scheme supplied. Perhaps you meant https:///entretenimiento/horoscopo/?utm_source=interno&utm_medium=boton&utm_campaign=menu_hamburguesa&utm_content=boton_menu_hamburguesa?\n",
            "Error al procesar el enlace /entretenimiento/tarot-de-mave/?utm_source=interno&utm_medium=boton&utm_campaign=menu_hamburguesa&utm_content=boton_menu_hamburguesa: Invalid URL '/entretenimiento/tarot-de-mave/?utm_source=interno&utm_medium=boton&utm_campaign=menu_hamburguesa&utm_content=boton_menu_hamburguesa': No scheme supplied. Perhaps you meant https:///entretenimiento/tarot-de-mave/?utm_source=interno&utm_medium=boton&utm_campaign=menu_hamburguesa&utm_content=boton_menu_hamburguesa?\n",
            "Error al procesar el enlace /deportes/?utm_source=interno&utm_medium=boton&utm_campaign=menu_hamburguesa&utm_content=boton_menu_hamburguesa: Invalid URL '/deportes/?utm_source=interno&utm_medium=boton&utm_campaign=menu_hamburguesa&utm_content=boton_menu_hamburguesa': No scheme supplied. Perhaps you meant https:///deportes/?utm_source=interno&utm_medium=boton&utm_campaign=menu_hamburguesa&utm_content=boton_menu_hamburguesa?\n",
            "Error al procesar el enlace /deportes/futbol-colombiano/?utm_source=interno&utm_medium=boton&utm_campaign=menu_hamburguesa&utm_content=boton_menu_hamburguesa: Invalid URL '/deportes/futbol-colombiano/?utm_source=interno&utm_medium=boton&utm_campaign=menu_hamburguesa&utm_content=boton_menu_hamburguesa': No scheme supplied. Perhaps you meant https:///deportes/futbol-colombiano/?utm_source=interno&utm_medium=boton&utm_campaign=menu_hamburguesa&utm_content=boton_menu_hamburguesa?\n",
            "Error al procesar el enlace /deportes/futbol-colombiano/millonarios/?utm_source=interno&utm_medium=boton&utm_campaign=menu_hamburguesa&utm_content=boton_menu_hamburguesa: Invalid URL '/deportes/futbol-colombiano/millonarios/?utm_source=interno&utm_medium=boton&utm_campaign=menu_hamburguesa&utm_content=boton_menu_hamburguesa': No scheme supplied. Perhaps you meant https:///deportes/futbol-colombiano/millonarios/?utm_source=interno&utm_medium=boton&utm_campaign=menu_hamburguesa&utm_content=boton_menu_hamburguesa?\n",
            "Error al procesar el enlace /deportes/futbol-colombiano/santa-fe/?utm_source=interno&utm_medium=boton&utm_campaign=menu_hamburguesa&utm_content=boton_menu_hamburguesa: Invalid URL '/deportes/futbol-colombiano/santa-fe/?utm_source=interno&utm_medium=boton&utm_campaign=menu_hamburguesa&utm_content=boton_menu_hamburguesa': No scheme supplied. Perhaps you meant https:///deportes/futbol-colombiano/santa-fe/?utm_source=interno&utm_medium=boton&utm_campaign=menu_hamburguesa&utm_content=boton_menu_hamburguesa?\n",
            "Error al procesar el enlace /deportes/futbol-colombiano/america-de-cali/?utm_source=interno&utm_medium=boton&utm_campaign=menu_hamburguesa&utm_content=boton_menu_hamburguesa: Invalid URL '/deportes/futbol-colombiano/america-de-cali/?utm_source=interno&utm_medium=boton&utm_campaign=menu_hamburguesa&utm_content=boton_menu_hamburguesa': No scheme supplied. Perhaps you meant https:///deportes/futbol-colombiano/america-de-cali/?utm_source=interno&utm_medium=boton&utm_campaign=menu_hamburguesa&utm_content=boton_menu_hamburguesa?\n",
            "Error al procesar el enlace /deportes/futbol-colombiano/atletico-nacional/?utm_source=interno&utm_medium=boton&utm_campaign=menu_hamburguesa&utm_content=boton_menu_hamburguesa: Invalid URL '/deportes/futbol-colombiano/atletico-nacional/?utm_source=interno&utm_medium=boton&utm_campaign=menu_hamburguesa&utm_content=boton_menu_hamburguesa': No scheme supplied. Perhaps you meant https:///deportes/futbol-colombiano/atletico-nacional/?utm_source=interno&utm_medium=boton&utm_campaign=menu_hamburguesa&utm_content=boton_menu_hamburguesa?\n",
            "Error al procesar el enlace /deportes/futbol-colombiano/junior-fc/?utm_source=interno&utm_medium=boton&utm_campaign=menu_hamburguesa&utm_content=boton_menu_hamburguesa: Invalid URL '/deportes/futbol-colombiano/junior-fc/?utm_source=interno&utm_medium=boton&utm_campaign=menu_hamburguesa&utm_content=boton_menu_hamburguesa': No scheme supplied. Perhaps you meant https:///deportes/futbol-colombiano/junior-fc/?utm_source=interno&utm_medium=boton&utm_campaign=menu_hamburguesa&utm_content=boton_menu_hamburguesa?\n",
            "Error al procesar el enlace /deportes/futbol-colombiano/otros-equipos/?utm_source=interno&utm_medium=boton&utm_campaign=menu_hamburguesa&utm_content=boton_menu_hamburguesa: Invalid URL '/deportes/futbol-colombiano/otros-equipos/?utm_source=interno&utm_medium=boton&utm_campaign=menu_hamburguesa&utm_content=boton_menu_hamburguesa': No scheme supplied. Perhaps you meant https:///deportes/futbol-colombiano/otros-equipos/?utm_source=interno&utm_medium=boton&utm_campaign=menu_hamburguesa&utm_content=boton_menu_hamburguesa?\n",
            "Error al procesar el enlace /deportes/seleccion-colombia/?utm_source=interno&utm_medium=boton&utm_campaign=menu_hamburguesa&utm_content=boton_menu_hamburguesa: Invalid URL '/deportes/seleccion-colombia/?utm_source=interno&utm_medium=boton&utm_campaign=menu_hamburguesa&utm_content=boton_menu_hamburguesa': No scheme supplied. Perhaps you meant https:///deportes/seleccion-colombia/?utm_source=interno&utm_medium=boton&utm_campaign=menu_hamburguesa&utm_content=boton_menu_hamburguesa?\n",
            "Error al procesar el enlace /deportes/futbol-mundial/?utm_source=interno&utm_medium=boton&utm_campaign=menu_hamburguesa&utm_content=boton_menu_hamburguesa: Invalid URL '/deportes/futbol-mundial/?utm_source=interno&utm_medium=boton&utm_campaign=menu_hamburguesa&utm_content=boton_menu_hamburguesa': No scheme supplied. Perhaps you meant https:///deportes/futbol-mundial/?utm_source=interno&utm_medium=boton&utm_campaign=menu_hamburguesa&utm_content=boton_menu_hamburguesa?\n",
            "Error al procesar el enlace /deportes/ciclismo/?utm_source=interno&utm_medium=boton&utm_campaign=menu_hamburguesa&utm_content=boton_menu_hamburguesa: Invalid URL '/deportes/ciclismo/?utm_source=interno&utm_medium=boton&utm_campaign=menu_hamburguesa&utm_content=boton_menu_hamburguesa': No scheme supplied. Perhaps you meant https:///deportes/ciclismo/?utm_source=interno&utm_medium=boton&utm_campaign=menu_hamburguesa&utm_content=boton_menu_hamburguesa?\n",
            "Error al procesar el enlace /deportes/mas-deportes/?utm_source=interno&utm_medium=boton&utm_campaign=menu_hamburguesa&utm_content=boton_menu_hamburguesa: Invalid URL '/deportes/mas-deportes/?utm_source=interno&utm_medium=boton&utm_campaign=menu_hamburguesa&utm_content=boton_menu_hamburguesa': No scheme supplied. Perhaps you meant https:///deportes/mas-deportes/?utm_source=interno&utm_medium=boton&utm_campaign=menu_hamburguesa&utm_content=boton_menu_hamburguesa?\n",
            "Error al procesar el enlace /deportes/analistas/?utm_source=interno&utm_medium=boton&utm_campaign=menu_hamburguesa&utm_content=boton_menu_hamburguesa: Invalid URL '/deportes/analistas/?utm_source=interno&utm_medium=boton&utm_campaign=menu_hamburguesa&utm_content=boton_menu_hamburguesa': No scheme supplied. Perhaps you meant https:///deportes/analistas/?utm_source=interno&utm_medium=boton&utm_campaign=menu_hamburguesa&utm_content=boton_menu_hamburguesa?\n",
            "Error al procesar el enlace /colombia/?utm_source=interno&utm_medium=boton&utm_campaign=menu_hamburguesa&utm_content=boton_menu_hamburguesa: Invalid URL '/colombia/?utm_source=interno&utm_medium=boton&utm_campaign=menu_hamburguesa&utm_content=boton_menu_hamburguesa': No scheme supplied. Perhaps you meant https:///colombia/?utm_source=interno&utm_medium=boton&utm_campaign=menu_hamburguesa&utm_content=boton_menu_hamburguesa?\n",
            "Error al procesar el enlace /colombia/mas-regiones/?utm_source=interno&utm_medium=boton&utm_campaign=menu_hamburguesa&utm_content=boton_menu_hamburguesa: Invalid URL '/colombia/mas-regiones/?utm_source=interno&utm_medium=boton&utm_campaign=menu_hamburguesa&utm_content=boton_menu_hamburguesa': No scheme supplied. Perhaps you meant https:///colombia/mas-regiones/?utm_source=interno&utm_medium=boton&utm_campaign=menu_hamburguesa&utm_content=boton_menu_hamburguesa?\n",
            "Error al procesar el enlace /colombia/medellin/?utm_source=interno&utm_medium=boton&utm_campaign=menu_hamburguesa&utm_content=boton_menu_hamburguesa: Invalid URL '/colombia/medellin/?utm_source=interno&utm_medium=boton&utm_campaign=menu_hamburguesa&utm_content=boton_menu_hamburguesa': No scheme supplied. Perhaps you meant https:///colombia/medellin/?utm_source=interno&utm_medium=boton&utm_campaign=menu_hamburguesa&utm_content=boton_menu_hamburguesa?\n",
            "Error al procesar el enlace /colombia/cali/?utm_source=interno&utm_medium=boton&utm_campaign=menu_hamburguesa&utm_content=boton_menu_hamburguesa: Invalid URL '/colombia/cali/?utm_source=interno&utm_medium=boton&utm_campaign=menu_hamburguesa&utm_content=boton_menu_hamburguesa': No scheme supplied. Perhaps you meant https:///colombia/cali/?utm_source=interno&utm_medium=boton&utm_campaign=menu_hamburguesa&utm_content=boton_menu_hamburguesa?\n",
            "Error al procesar el enlace /colombia/barranquilla/?utm_source=interno&utm_medium=boton&utm_campaign=menu_hamburguesa&utm_content=boton_menu_hamburguesa: Invalid URL '/colombia/barranquilla/?utm_source=interno&utm_medium=boton&utm_campaign=menu_hamburguesa&utm_content=boton_menu_hamburguesa': No scheme supplied. Perhaps you meant https:///colombia/barranquilla/?utm_source=interno&utm_medium=boton&utm_campaign=menu_hamburguesa&utm_content=boton_menu_hamburguesa?\n",
            "Error al procesar el enlace /colombia/cartagena/?utm_source=interno&utm_medium=boton&utm_campaign=menu_hamburguesa&utm_content=boton_menu_hamburguesa: Invalid URL '/colombia/cartagena/?utm_source=interno&utm_medium=boton&utm_campaign=menu_hamburguesa&utm_content=boton_menu_hamburguesa': No scheme supplied. Perhaps you meant https:///colombia/cartagena/?utm_source=interno&utm_medium=boton&utm_campaign=menu_hamburguesa&utm_content=boton_menu_hamburguesa?\n",
            "Error al procesar el enlace /colombia/cundinamarca/?utm_source=interno&utm_medium=boton&utm_campaign=menu_hamburguesa&utm_content=boton_menu_hamburguesa: Invalid URL '/colombia/cundinamarca/?utm_source=interno&utm_medium=boton&utm_campaign=menu_hamburguesa&utm_content=boton_menu_hamburguesa': No scheme supplied. Perhaps you meant https:///colombia/cundinamarca/?utm_source=interno&utm_medium=boton&utm_campaign=menu_hamburguesa&utm_content=boton_menu_hamburguesa?\n",
            "Error al procesar el enlace /el-magazin-cultural/?utm_source=interno&utm_medium=boton&utm_campaign=menu_hamburguesa&utm_content=boton_menu_hamburguesa: Invalid URL '/el-magazin-cultural/?utm_source=interno&utm_medium=boton&utm_campaign=menu_hamburguesa&utm_content=boton_menu_hamburguesa': No scheme supplied. Perhaps you meant https:///el-magazin-cultural/?utm_source=interno&utm_medium=boton&utm_campaign=menu_hamburguesa&utm_content=boton_menu_hamburguesa?\n",
            "Error al procesar el enlace /el-magazin-cultural/la-suma-de-las-voces/?utm_source=interno&utm_medium=boton&utm_campaign=menu_hamburguesa&utm_content=boton_menu_hamburguesa: Invalid URL '/el-magazin-cultural/la-suma-de-las-voces/?utm_source=interno&utm_medium=boton&utm_campaign=menu_hamburguesa&utm_content=boton_menu_hamburguesa': No scheme supplied. Perhaps you meant https:///el-magazin-cultural/la-suma-de-las-voces/?utm_source=interno&utm_medium=boton&utm_campaign=menu_hamburguesa&utm_content=boton_menu_hamburguesa?\n",
            "Error al procesar el enlace /salud/?utm_source=interno&utm_medium=boton&utm_campaign=menu_hamburguesa&utm_content=boton_menu_hamburguesa: Invalid URL '/salud/?utm_source=interno&utm_medium=boton&utm_campaign=menu_hamburguesa&utm_content=boton_menu_hamburguesa': No scheme supplied. Perhaps you meant https:///salud/?utm_source=interno&utm_medium=boton&utm_campaign=menu_hamburguesa&utm_content=boton_menu_hamburguesa?\n",
            "Error al procesar el enlace /ambiente/?utm_source=interno&utm_medium=boton&utm_campaign=menu_hamburguesa&utm_content=boton_menu_hamburguesa: Invalid URL '/ambiente/?utm_source=interno&utm_medium=boton&utm_campaign=menu_hamburguesa&utm_content=boton_menu_hamburguesa': No scheme supplied. Perhaps you meant https:///ambiente/?utm_source=interno&utm_medium=boton&utm_campaign=menu_hamburguesa&utm_content=boton_menu_hamburguesa?\n",
            "Error al procesar el enlace /ambiente/ruta-a-la-cop16/?utm_source=interno&utm_medium=boton&utm_campaign=menu_hamburguesa&utm_content=boton_menu_hamburguesa: Invalid URL '/ambiente/ruta-a-la-cop16/?utm_source=interno&utm_medium=boton&utm_campaign=menu_hamburguesa&utm_content=boton_menu_hamburguesa': No scheme supplied. Perhaps you meant https:///ambiente/ruta-a-la-cop16/?utm_source=interno&utm_medium=boton&utm_campaign=menu_hamburguesa&utm_content=boton_menu_hamburguesa?\n",
            "Error al procesar el enlace /ambiente/bibo/?utm_source=interno&utm_medium=boton&utm_campaign=menu_hamburguesa&utm_content=boton_menu_hamburguesa: Invalid URL '/ambiente/bibo/?utm_source=interno&utm_medium=boton&utm_campaign=menu_hamburguesa&utm_content=boton_menu_hamburguesa': No scheme supplied. Perhaps you meant https:///ambiente/bibo/?utm_source=interno&utm_medium=boton&utm_campaign=menu_hamburguesa&utm_content=boton_menu_hamburguesa?\n",
            "Error al procesar el enlace /ambiente/bibo/fasciculos-bibo-2022/?utm_source=interno&utm_medium=boton&utm_campaign=menu_hamburguesa&utm_content=boton_menu_hamburguesa: Invalid URL '/ambiente/bibo/fasciculos-bibo-2022/?utm_source=interno&utm_medium=boton&utm_campaign=menu_hamburguesa&utm_content=boton_menu_hamburguesa': No scheme supplied. Perhaps you meant https:///ambiente/bibo/fasciculos-bibo-2022/?utm_source=interno&utm_medium=boton&utm_campaign=menu_hamburguesa&utm_content=boton_menu_hamburguesa?\n",
            "Error al procesar el enlace /ambiente/bibo/premio-bibo-2022-mejores-practicas-ambientales/?utm_source=interno&utm_medium=boton&utm_campaign=menu_hamburguesa&utm_content=boton_menu_hamburguesa: Invalid URL '/ambiente/bibo/premio-bibo-2022-mejores-practicas-ambientales/?utm_source=interno&utm_medium=boton&utm_campaign=menu_hamburguesa&utm_content=boton_menu_hamburguesa': No scheme supplied. Perhaps you meant https:///ambiente/bibo/premio-bibo-2022-mejores-practicas-ambientales/?utm_source=interno&utm_medium=boton&utm_campaign=menu_hamburguesa&utm_content=boton_menu_hamburguesa?\n",
            "Error al procesar el enlace /ambiente/bibo/encuentros-por-el-agua-2022/?utm_source=interno&utm_medium=boton&utm_campaign=menu_hamburguesa&utm_content=boton_menu_hamburguesa: Invalid URL '/ambiente/bibo/encuentros-por-el-agua-2022/?utm_source=interno&utm_medium=boton&utm_campaign=menu_hamburguesa&utm_content=boton_menu_hamburguesa': No scheme supplied. Perhaps you meant https:///ambiente/bibo/encuentros-por-el-agua-2022/?utm_source=interno&utm_medium=boton&utm_campaign=menu_hamburguesa&utm_content=boton_menu_hamburguesa?\n",
            "Error al procesar el enlace /ambiente/amazonas/?utm_source=interno&utm_medium=boton&utm_campaign=menu_hamburguesa&utm_content=boton_menu_hamburguesa: Invalid URL '/ambiente/amazonas/?utm_source=interno&utm_medium=boton&utm_campaign=menu_hamburguesa&utm_content=boton_menu_hamburguesa': No scheme supplied. Perhaps you meant https:///ambiente/amazonas/?utm_source=interno&utm_medium=boton&utm_campaign=menu_hamburguesa&utm_content=boton_menu_hamburguesa?\n",
            "Error al procesar el enlace /ambiente/blog-el-rio/?utm_source=interno&utm_medium=boton&utm_campaign=menu_hamburguesa&utm_content=boton_menu_hamburguesa: Invalid URL '/ambiente/blog-el-rio/?utm_source=interno&utm_medium=boton&utm_campaign=menu_hamburguesa&utm_content=boton_menu_hamburguesa': No scheme supplied. Perhaps you meant https:///ambiente/blog-el-rio/?utm_source=interno&utm_medium=boton&utm_campaign=menu_hamburguesa&utm_content=boton_menu_hamburguesa?\n",
            "Error al procesar el enlace /investigacion/?utm_source=interno&utm_medium=boton&utm_campaign=menu_hamburguesa&utm_content=boton_menu_hamburguesa: Invalid URL '/investigacion/?utm_source=interno&utm_medium=boton&utm_campaign=menu_hamburguesa&utm_content=boton_menu_hamburguesa': No scheme supplied. Perhaps you meant https:///investigacion/?utm_source=interno&utm_medium=boton&utm_campaign=menu_hamburguesa&utm_content=boton_menu_hamburguesa?\n",
            "Error al procesar el enlace /educacion/?utm_source=interno&utm_medium=boton&utm_campaign=menu_hamburguesa&utm_content=boton_menu_hamburguesa: Invalid URL '/educacion/?utm_source=interno&utm_medium=boton&utm_campaign=menu_hamburguesa&utm_content=boton_menu_hamburguesa': No scheme supplied. Perhaps you meant https:///educacion/?utm_source=interno&utm_medium=boton&utm_campaign=menu_hamburguesa&utm_content=boton_menu_hamburguesa?\n",
            "Error al procesar el enlace /ciencia/?utm_source=interno&utm_medium=boton&utm_campaign=menu_hamburguesa&utm_content=boton_menu_hamburguesa: Invalid URL '/ciencia/?utm_source=interno&utm_medium=boton&utm_campaign=menu_hamburguesa&utm_content=boton_menu_hamburguesa': No scheme supplied. Perhaps you meant https:///ciencia/?utm_source=interno&utm_medium=boton&utm_campaign=menu_hamburguesa&utm_content=boton_menu_hamburguesa?\n",
            "Error al procesar el enlace /genero-y-diversidad/?utm_source=interno&utm_medium=boton&utm_campaign=menu_hamburguesa&utm_content=boton_menu_hamburguesa: Invalid URL '/genero-y-diversidad/?utm_source=interno&utm_medium=boton&utm_campaign=menu_hamburguesa&utm_content=boton_menu_hamburguesa': No scheme supplied. Perhaps you meant https:///genero-y-diversidad/?utm_source=interno&utm_medium=boton&utm_campaign=menu_hamburguesa&utm_content=boton_menu_hamburguesa?\n",
            "Error al procesar el enlace /genero-y-diversidad/la-disidencia/?utm_source=interno&utm_medium=boton&utm_campaign=menu_hamburguesa&utm_content=boton_menu_hamburguesa: Invalid URL '/genero-y-diversidad/la-disidencia/?utm_source=interno&utm_medium=boton&utm_campaign=menu_hamburguesa&utm_content=boton_menu_hamburguesa': No scheme supplied. Perhaps you meant https:///genero-y-diversidad/la-disidencia/?utm_source=interno&utm_medium=boton&utm_campaign=menu_hamburguesa&utm_content=boton_menu_hamburguesa?\n",
            "Error al procesar el enlace /genero-y-diversidad/las-igualadas/?utm_source=interno&utm_medium=boton&utm_campaign=menu_hamburguesa&utm_content=boton_menu_hamburguesa: Invalid URL '/genero-y-diversidad/las-igualadas/?utm_source=interno&utm_medium=boton&utm_campaign=menu_hamburguesa&utm_content=boton_menu_hamburguesa': No scheme supplied. Perhaps you meant https:///genero-y-diversidad/las-igualadas/?utm_source=interno&utm_medium=boton&utm_campaign=menu_hamburguesa&utm_content=boton_menu_hamburguesa?\n",
            "Error al procesar el enlace /tecnologia/?utm_source=interno&utm_medium=boton&utm_campaign=menu_hamburguesa&utm_content=boton_menu_hamburguesa: Invalid URL '/tecnologia/?utm_source=interno&utm_medium=boton&utm_campaign=menu_hamburguesa&utm_content=boton_menu_hamburguesa': No scheme supplied. Perhaps you meant https:///tecnologia/?utm_source=interno&utm_medium=boton&utm_campaign=menu_hamburguesa&utm_content=boton_menu_hamburguesa?\n",
            "Error al procesar el enlace /tecnologia/gadgets-y-apps/?utm_source=interno&utm_medium=boton&utm_campaign=menu_hamburguesa&utm_content=boton_menu_hamburguesa: Invalid URL '/tecnologia/gadgets-y-apps/?utm_source=interno&utm_medium=boton&utm_campaign=menu_hamburguesa&utm_content=boton_menu_hamburguesa': No scheme supplied. Perhaps you meant https:///tecnologia/gadgets-y-apps/?utm_source=interno&utm_medium=boton&utm_campaign=menu_hamburguesa&utm_content=boton_menu_hamburguesa?\n",
            "Error al procesar el enlace /actualidad/?utm_source=interno&utm_medium=boton&utm_campaign=menu_hamburguesa&utm_content=boton_menu_hamburguesa: Invalid URL '/actualidad/?utm_source=interno&utm_medium=boton&utm_campaign=menu_hamburguesa&utm_content=boton_menu_hamburguesa': No scheme supplied. Perhaps you meant https:///actualidad/?utm_source=interno&utm_medium=boton&utm_campaign=menu_hamburguesa&utm_content=boton_menu_hamburguesa?\n",
            "Error al procesar el enlace /reportajes/?utm_source=interno&utm_medium=boton&utm_campaign=menu_hamburguesa&utm_content=boton_menu_hamburguesa: Invalid URL '/reportajes/?utm_source=interno&utm_medium=boton&utm_campaign=menu_hamburguesa&utm_content=boton_menu_hamburguesa': No scheme supplied. Perhaps you meant https:///reportajes/?utm_source=interno&utm_medium=boton&utm_campaign=menu_hamburguesa&utm_content=boton_menu_hamburguesa?\n",
            "Error al procesar el enlace /historias-visuales/?utm_source=interno&utm_medium=boton&utm_campaign=menu_hamburguesa&utm_content=boton_menu_hamburguesa: Invalid URL '/historias-visuales/?utm_source=interno&utm_medium=boton&utm_campaign=menu_hamburguesa&utm_content=boton_menu_hamburguesa': No scheme supplied. Perhaps you meant https:///historias-visuales/?utm_source=interno&utm_medium=boton&utm_campaign=menu_hamburguesa&utm_content=boton_menu_hamburguesa?\n",
            "Error al procesar el enlace /colecciones/?utm_source=interno&utm_medium=boton&utm_campaign=menu_hamburguesa&utm_content=boton_menu_hamburguesa: Invalid URL '/colecciones/?utm_source=interno&utm_medium=boton&utm_campaign=menu_hamburguesa&utm_content=boton_menu_hamburguesa': No scheme supplied. Perhaps you meant https:///colecciones/?utm_source=interno&utm_medium=boton&utm_campaign=menu_hamburguesa&utm_content=boton_menu_hamburguesa?\n",
            "Error al procesar el enlace /podcast-espanol-el-espectador/?utm_source=interno&utm_medium=boton&utm_campaign=menu_hamburguesa&utm_content=boton_menu_hamburguesa: Invalid URL '/podcast-espanol-el-espectador/?utm_source=interno&utm_medium=boton&utm_campaign=menu_hamburguesa&utm_content=boton_menu_hamburguesa': No scheme supplied. Perhaps you meant https:///podcast-espanol-el-espectador/?utm_source=interno&utm_medium=boton&utm_campaign=menu_hamburguesa&utm_content=boton_menu_hamburguesa?\n",
            "Error al procesar el enlace /cromos/?utm_source=interno&utm_medium=boton&utm_campaign=menu_hamburguesa&utm_content=boton_menu_hamburguesa: Invalid URL '/cromos/?utm_source=interno&utm_medium=boton&utm_campaign=menu_hamburguesa&utm_content=boton_menu_hamburguesa': No scheme supplied. Perhaps you meant https:///cromos/?utm_source=interno&utm_medium=boton&utm_campaign=menu_hamburguesa&utm_content=boton_menu_hamburguesa?\n",
            "Error al procesar el enlace /cromos/estilo-de-vida/?utm_source=interno&utm_medium=boton&utm_campaign=menu_hamburguesa&utm_content=boton_menu_hamburguesa: Invalid URL '/cromos/estilo-de-vida/?utm_source=interno&utm_medium=boton&utm_campaign=menu_hamburguesa&utm_content=boton_menu_hamburguesa': No scheme supplied. Perhaps you meant https:///cromos/estilo-de-vida/?utm_source=interno&utm_medium=boton&utm_campaign=menu_hamburguesa&utm_content=boton_menu_hamburguesa?\n",
            "Error al procesar el enlace /cromos/sexualidad/?utm_source=interno&utm_medium=boton&utm_campaign=menu_hamburguesa&utm_content=boton_menu_hamburguesa: Invalid URL '/cromos/sexualidad/?utm_source=interno&utm_medium=boton&utm_campaign=menu_hamburguesa&utm_content=boton_menu_hamburguesa': No scheme supplied. Perhaps you meant https:///cromos/sexualidad/?utm_source=interno&utm_medium=boton&utm_campaign=menu_hamburguesa&utm_content=boton_menu_hamburguesa?\n",
            "Error al procesar el enlace /cromos/maternidad/?utm_source=interno&utm_medium=boton&utm_campaign=menu_hamburguesa&utm_content=boton_menu_hamburguesa: Invalid URL '/cromos/maternidad/?utm_source=interno&utm_medium=boton&utm_campaign=menu_hamburguesa&utm_content=boton_menu_hamburguesa': No scheme supplied. Perhaps you meant https:///cromos/maternidad/?utm_source=interno&utm_medium=boton&utm_campaign=menu_hamburguesa&utm_content=boton_menu_hamburguesa?\n",
            "Error al procesar el enlace /cromos/vida-sana/?utm_source=interno&utm_medium=boton&utm_campaign=menu_hamburguesa&utm_content=boton_menu_hamburguesa: Invalid URL '/cromos/vida-sana/?utm_source=interno&utm_medium=boton&utm_campaign=menu_hamburguesa&utm_content=boton_menu_hamburguesa': No scheme supplied. Perhaps you meant https:///cromos/vida-sana/?utm_source=interno&utm_medium=boton&utm_campaign=menu_hamburguesa&utm_content=boton_menu_hamburguesa?\n",
            "Error al procesar el enlace /cromos/moda/?utm_source=interno&utm_medium=boton&utm_campaign=menu_hamburguesa&utm_content=boton_menu_hamburguesa: Invalid URL '/cromos/moda/?utm_source=interno&utm_medium=boton&utm_campaign=menu_hamburguesa&utm_content=boton_menu_hamburguesa': No scheme supplied. Perhaps you meant https:///cromos/moda/?utm_source=interno&utm_medium=boton&utm_campaign=menu_hamburguesa&utm_content=boton_menu_hamburguesa?\n",
            "Error al procesar el enlace /cromos/famosos/?utm_source=interno&utm_medium=boton&utm_campaign=menu_hamburguesa&utm_content=boton_menu_hamburguesa: Invalid URL '/cromos/famosos/?utm_source=interno&utm_medium=boton&utm_campaign=menu_hamburguesa&utm_content=boton_menu_hamburguesa': No scheme supplied. Perhaps you meant https:///cromos/famosos/?utm_source=interno&utm_medium=boton&utm_campaign=menu_hamburguesa&utm_content=boton_menu_hamburguesa?\n",
            "Error al procesar el enlace /cromos/astrologia/?utm_source=interno&utm_medium=boton&utm_campaign=menu_hamburguesa&utm_content=boton_menu_hamburguesa: Invalid URL '/cromos/astrologia/?utm_source=interno&utm_medium=boton&utm_campaign=menu_hamburguesa&utm_content=boton_menu_hamburguesa': No scheme supplied. Perhaps you meant https:///cromos/astrologia/?utm_source=interno&utm_medium=boton&utm_campaign=menu_hamburguesa&utm_content=boton_menu_hamburguesa?\n",
            "Error al procesar el enlace /revista-vea/?utm_source=interno&utm_medium=boton&utm_campaign=menu_hamburguesa&utm_content=boton_menu_hamburguesa: Invalid URL '/revista-vea/?utm_source=interno&utm_medium=boton&utm_campaign=menu_hamburguesa&utm_content=boton_menu_hamburguesa': No scheme supplied. Perhaps you meant https:///revista-vea/?utm_source=interno&utm_medium=boton&utm_campaign=menu_hamburguesa&utm_content=boton_menu_hamburguesa?\n",
            "Error al procesar el enlace /revista-vea/lo-ultimo/?utm_source=interno&utm_medium=boton&utm_campaign=menu_hamburguesa&utm_content=boton_menu_hamburguesa: Invalid URL '/revista-vea/lo-ultimo/?utm_source=interno&utm_medium=boton&utm_campaign=menu_hamburguesa&utm_content=boton_menu_hamburguesa': No scheme supplied. Perhaps you meant https:///revista-vea/lo-ultimo/?utm_source=interno&utm_medium=boton&utm_campaign=menu_hamburguesa&utm_content=boton_menu_hamburguesa?\n",
            "Error al procesar el enlace /revista-vea/famosos/?utm_source=interno&utm_medium=boton&utm_campaign=menu_hamburguesa&utm_content=boton_menu_hamburguesa: Invalid URL '/revista-vea/famosos/?utm_source=interno&utm_medium=boton&utm_campaign=menu_hamburguesa&utm_content=boton_menu_hamburguesa': No scheme supplied. Perhaps you meant https:///revista-vea/famosos/?utm_source=interno&utm_medium=boton&utm_campaign=menu_hamburguesa&utm_content=boton_menu_hamburguesa?\n",
            "Error al procesar el enlace /revista-vea/realeza/?utm_source=interno&utm_medium=boton&utm_campaign=menu_hamburguesa&utm_content=boton_menu_hamburguesa: Invalid URL '/revista-vea/realeza/?utm_source=interno&utm_medium=boton&utm_campaign=menu_hamburguesa&utm_content=boton_menu_hamburguesa': No scheme supplied. Perhaps you meant https:///revista-vea/realeza/?utm_source=interno&utm_medium=boton&utm_campaign=menu_hamburguesa&utm_content=boton_menu_hamburguesa?\n",
            "Error al procesar el enlace /revista-vea/peliculas-series-y-novelas/?utm_source=interno&utm_medium=boton&utm_campaign=menu_hamburguesa&utm_content=boton_menu_hamburguesa: Invalid URL '/revista-vea/peliculas-series-y-novelas/?utm_source=interno&utm_medium=boton&utm_campaign=menu_hamburguesa&utm_content=boton_menu_hamburguesa': No scheme supplied. Perhaps you meant https:///revista-vea/peliculas-series-y-novelas/?utm_source=interno&utm_medium=boton&utm_campaign=menu_hamburguesa&utm_content=boton_menu_hamburguesa?\n",
            "Error al procesar el enlace /revista-vea/cocina/?utm_source=interno&utm_medium=boton&utm_campaign=menu_hamburguesa&utm_content=boton_menu_hamburguesa: Invalid URL '/revista-vea/cocina/?utm_source=interno&utm_medium=boton&utm_campaign=menu_hamburguesa&utm_content=boton_menu_hamburguesa': No scheme supplied. Perhaps you meant https:///revista-vea/cocina/?utm_source=interno&utm_medium=boton&utm_campaign=menu_hamburguesa&utm_content=boton_menu_hamburguesa?\n",
            "Error al procesar el enlace /revista-vea/los-astros-y-las-estrellas/?utm_source=interno&utm_medium=boton&utm_campaign=menu_hamburguesa&utm_content=boton_menu_hamburguesa: Invalid URL '/revista-vea/los-astros-y-las-estrellas/?utm_source=interno&utm_medium=boton&utm_campaign=menu_hamburguesa&utm_content=boton_menu_hamburguesa': No scheme supplied. Perhaps you meant https:///revista-vea/los-astros-y-las-estrellas/?utm_source=interno&utm_medium=boton&utm_campaign=menu_hamburguesa&utm_content=boton_menu_hamburguesa?\n",
            "Error al procesar el enlace /terminos/terminos-y-condiciones: Invalid URL '/terminos/terminos-y-condiciones': No scheme supplied. Perhaps you meant https:///terminos/terminos-y-condiciones?\n",
            "Error al procesar el enlace /terminos/politica-de-tratamiento-de-datos: Invalid URL '/terminos/politica-de-tratamiento-de-datos': No scheme supplied. Perhaps you meant https:///terminos/politica-de-tratamiento-de-datos?\n",
            "Error al procesar el enlace /: Invalid URL '/': No scheme supplied. Perhaps you meant https:///?\n",
            "Error al procesar el enlace /ultimas-noticias-colombia/?utm_source=interno&utm_medium=boton&utm_campaign=menu_horizontal&utm_content=boton_menu_horizontal: Invalid URL '/ultimas-noticias-colombia/?utm_source=interno&utm_medium=boton&utm_campaign=menu_horizontal&utm_content=boton_menu_horizontal': No scheme supplied. Perhaps you meant https:///ultimas-noticias-colombia/?utm_source=interno&utm_medium=boton&utm_campaign=menu_horizontal&utm_content=boton_menu_horizontal?\n",
            "Error al procesar el enlace /opinion/?utm_source=interno&utm_medium=boton&utm_campaign=menu_horizontal&utm_content=boton_menu_horizontal: Invalid URL '/opinion/?utm_source=interno&utm_medium=boton&utm_campaign=menu_horizontal&utm_content=boton_menu_horizontal': No scheme supplied. Perhaps you meant https:///opinion/?utm_source=interno&utm_medium=boton&utm_campaign=menu_horizontal&utm_content=boton_menu_horizontal?\n",
            "Error al procesar el enlace /politica/?utm_source=interno&utm_medium=boton&utm_campaign=menu_horizontal&utm_content=boton_menu_horizontal: Invalid URL '/politica/?utm_source=interno&utm_medium=boton&utm_campaign=menu_horizontal&utm_content=boton_menu_horizontal': No scheme supplied. Perhaps you meant https:///politica/?utm_source=interno&utm_medium=boton&utm_campaign=menu_horizontal&utm_content=boton_menu_horizontal?\n",
            "Error al procesar el enlace /judicial/?utm_source=interno&utm_medium=boton&utm_campaign=menu_horizontal&utm_content=boton_menu_horizontal: Invalid URL '/judicial/?utm_source=interno&utm_medium=boton&utm_campaign=menu_horizontal&utm_content=boton_menu_horizontal': No scheme supplied. Perhaps you meant https:///judicial/?utm_source=interno&utm_medium=boton&utm_campaign=menu_horizontal&utm_content=boton_menu_horizontal?\n",
            "Error al procesar el enlace /economia/?utm_source=interno&utm_medium=boton&utm_campaign=menu_horizontal&utm_content=boton_menu_horizontal: Invalid URL '/economia/?utm_source=interno&utm_medium=boton&utm_campaign=menu_horizontal&utm_content=boton_menu_horizontal': No scheme supplied. Perhaps you meant https:///economia/?utm_source=interno&utm_medium=boton&utm_campaign=menu_horizontal&utm_content=boton_menu_horizontal?\n",
            "Error al procesar el enlace /mundo/?utm_source=interno&utm_medium=boton&utm_campaign=menu_horizontal&utm_content=boton_menu_horizontal: Invalid URL '/mundo/?utm_source=interno&utm_medium=boton&utm_campaign=menu_horizontal&utm_content=boton_menu_horizontal': No scheme supplied. Perhaps you meant https:///mundo/?utm_source=interno&utm_medium=boton&utm_campaign=menu_horizontal&utm_content=boton_menu_horizontal?\n",
            "Error al procesar el enlace /bogota/?utm_source=interno&utm_medium=boton&utm_campaign=menu_horizontal&utm_content=boton_menu_horizontal: Invalid URL '/bogota/?utm_source=interno&utm_medium=boton&utm_campaign=menu_horizontal&utm_content=boton_menu_horizontal': No scheme supplied. Perhaps you meant https:///bogota/?utm_source=interno&utm_medium=boton&utm_campaign=menu_horizontal&utm_content=boton_menu_horizontal?\n",
            "Error al procesar el enlace /deportes/?utm_source=interno&utm_medium=boton&utm_campaign=menu_horizontal&utm_content=boton_menu_horizontal: Invalid URL '/deportes/?utm_source=interno&utm_medium=boton&utm_campaign=menu_horizontal&utm_content=boton_menu_horizontal': No scheme supplied. Perhaps you meant https:///deportes/?utm_source=interno&utm_medium=boton&utm_campaign=menu_horizontal&utm_content=boton_menu_horizontal?\n",
            "Error al procesar el enlace /colombia-20/?utm_source=interno&utm_medium=boton&utm_campaign=menu_horizontal&utm_content=boton_menu_col-20: Invalid URL '/colombia-20/?utm_source=interno&utm_medium=boton&utm_campaign=menu_horizontal&utm_content=boton_menu_col-20': No scheme supplied. Perhaps you meant https:///colombia-20/?utm_source=interno&utm_medium=boton&utm_campaign=menu_horizontal&utm_content=boton_menu_col-20?\n",
            "Error al procesar el enlace /cromos/?utm_source=interno&utm_medium=boton&utm_campaign=menu_horizontal&utm_content=boton_menu_horizontal: Invalid URL '/cromos/?utm_source=interno&utm_medium=boton&utm_campaign=menu_horizontal&utm_content=boton_menu_horizontal': No scheme supplied. Perhaps you meant https:///cromos/?utm_source=interno&utm_medium=boton&utm_campaign=menu_horizontal&utm_content=boton_menu_horizontal?\n",
            "Error al procesar el enlace /revista-vea/?utm_source=interno&utm_medium=boton&utm_campaign=menu_horizontal&utm_content=boton_menu_horizontal: Invalid URL '/revista-vea/?utm_source=interno&utm_medium=boton&utm_campaign=menu_horizontal&utm_content=boton_menu_horizontal': No scheme supplied. Perhaps you meant https:///revista-vea/?utm_source=interno&utm_medium=boton&utm_campaign=menu_horizontal&utm_content=boton_menu_horizontal?\n",
            "Error al procesar el enlace /: Invalid URL '/': No scheme supplied. Perhaps you meant https:///?\n",
            "Error al procesar el enlace /tecnologia/: Invalid URL '/tecnologia/': No scheme supplied. Perhaps you meant https:///tecnologia/?\n",
            "Error al procesar el enlace /tecnologia/gadgets-y-apps/: Invalid URL '/tecnologia/gadgets-y-apps/': No scheme supplied. Perhaps you meant https:///tecnologia/gadgets-y-apps/?\n",
            "Error al procesar el enlace /autores/Redacción Tecnología: Invalid URL '/autores/Redacción Tecnología': No scheme supplied. Perhaps you meant https:///autores/Redacción Tecnología?\n",
            "Error al procesar el enlace : Invalid URL '': No scheme supplied. Perhaps you meant https://?\n",
            "Error al procesar el enlace #comments: Invalid URL '#comments': No scheme supplied. Perhaps you meant https://#comments?\n",
            "Error al procesar el enlace /tecnologia/gadgets-y-apps/consolas-y-videojuegos-que-puede-regalar-en-navidad-guia-de-compra/: Invalid URL '/tecnologia/gadgets-y-apps/consolas-y-videojuegos-que-puede-regalar-en-navidad-guia-de-compra/': No scheme supplied. Perhaps you meant https:///tecnologia/gadgets-y-apps/consolas-y-videojuegos-que-puede-regalar-en-navidad-guia-de-compra/?\n",
            "Error al procesar el enlace /tecnologia/gadgets-y-apps/fortnite-anuncia-ballistic-el-nuevo-juego-de-disparos-5c5-en-primera-persona/: Invalid URL '/tecnologia/gadgets-y-apps/fortnite-anuncia-ballistic-el-nuevo-juego-de-disparos-5c5-en-primera-persona/': No scheme supplied. Perhaps you meant https:///tecnologia/gadgets-y-apps/fortnite-anuncia-ballistic-el-nuevo-juego-de-disparos-5c5-en-primera-persona/?\n",
            "Error al procesar el enlace /autores/Redacción Tecnología/: Invalid URL '/autores/Redacción Tecnología/': No scheme supplied. Perhaps you meant https:///autores/Redacción Tecnología/?\n",
            "Error al procesar el enlace /tags/estilo-de-vida/: Invalid URL '/tags/estilo-de-vida/': No scheme supplied. Perhaps you meant https:///tags/estilo-de-vida/?\n",
            "Error al procesar el enlace /tags/videojuegos/: Invalid URL '/tags/videojuegos/': No scheme supplied. Perhaps you meant https:///tags/videojuegos/?\n",
            "Error al procesar el enlace /tags/juegos-para-celular/: Invalid URL '/tags/juegos-para-celular/': No scheme supplied. Perhaps you meant https:///tags/juegos-para-celular/?\n",
            "Error al procesar el enlace /tags/mejores-juegos-para-celular/: Invalid URL '/tags/mejores-juegos-para-celular/': No scheme supplied. Perhaps you meant https:///tags/mejores-juegos-para-celular/?\n",
            "Error al procesar el enlace /tags/juegos-para-celular-gratis/: Invalid URL '/tags/juegos-para-celular-gratis/': No scheme supplied. Perhaps you meant https:///tags/juegos-para-celular-gratis/?\n",
            "Error al procesar el enlace /tags/juegos-en-iphone/: Invalid URL '/tags/juegos-en-iphone/': No scheme supplied. Perhaps you meant https:///tags/juegos-en-iphone/?\n",
            "Error al procesar el enlace /tags/juegos-en-android/: Invalid URL '/tags/juegos-en-android/': No scheme supplied. Perhaps you meant https:///tags/juegos-en-android/?\n",
            "Error al procesar el enlace /: Invalid URL '/': No scheme supplied. Perhaps you meant https:///?\n",
            "Error al procesar el enlace /mapa-del-sitio/: Invalid URL '/mapa-del-sitio/': No scheme supplied. Perhaps you meant https:///mapa-del-sitio/?\n",
            "Error al procesar el enlace /suscripcion-digital/: Invalid URL '/suscripcion-digital/': No scheme supplied. Perhaps you meant https:///suscripcion-digital/?\n",
            "Error al procesar el enlace /ayuda-el-espectador/: Invalid URL '/ayuda-el-espectador/': No scheme supplied. Perhaps you meant https:///ayuda-el-espectador/?\n",
            "Error al procesar el enlace /terminos/politica-de-tratamiento-de-datos/: Invalid URL '/terminos/politica-de-tratamiento-de-datos/': No scheme supplied. Perhaps you meant https:///terminos/politica-de-tratamiento-de-datos/?\n",
            "Error al procesar el enlace /terminos/terminos-y-condiciones/: Invalid URL '/terminos/terminos-y-condiciones/': No scheme supplied. Perhaps you meant https:///terminos/terminos-y-condiciones/?\n",
            "Error al procesar el enlace /terminos/politicas-de-PTEE-y-Sagrilaft/: Invalid URL '/terminos/politicas-de-PTEE-y-Sagrilaft/': No scheme supplied. Perhaps you meant https:///terminos/politicas-de-PTEE-y-Sagrilaft/?\n",
            "Error al procesar el enlace https://www.caracolnext.com/?utm_source=elespectador.com&utm_medium=referral&utm_campaign=footer-EE: 403 Client Error: Forbidden for url: https://www.caracoltvcorporativo.com/?utm_source=elespectador.com&utm_medium=referral&utm_campaign=footer-EE\n",
            "Error al procesar el enlace https://www.caracoltvcorporativo.com/?utm_source=elespectador.com&utm_medium=referral&utm_campaign=footer-EE: 403 Client Error: Forbidden for url: https://www.caracoltvcorporativo.com/?utm_source=elespectador.com&utm_medium=referral&utm_campaign=footer-EE\n",
            "Error al procesar el enlace mailto:aclaracionesyrectificaciones@elespectador.com: No connection adapters were found for 'mailto:aclaracionesyrectificaciones@elespectador.com'\n",
            "Error al procesar el enlace /terminos/politica-de-uso-de-cookies/: Invalid URL '/terminos/politica-de-uso-de-cookies/': No scheme supplied. Perhaps you meant https:///terminos/politica-de-uso-de-cookies/?\n",
            "\n",
            "Textos de los enlaces:\n",
            "Enlace: https://congresoalamano.elespectador.com/?utm_source=interno&utm_medium=boton&utm_campaign=menu_hamburguesa&utm_content=boton_menu_hamburguesa\n",
            "Texto: Congreso a la mano: así votaron los congresistas en las reformas del gobierno Petro.Congreso a la mano: así votaron los políticos en las reformas del gobierno PetroCopiar linkWhatsappLinkedInCorreo el...\n",
            "\n",
            "Enlace: https://twitter.com/elespectador\n",
            "Texto: x.com...\n",
            "\n",
            "Enlace: https://www.facebook.com/elespectadorcom\n",
            "Texto: El Espectador | Bogotá...\n",
            "\n",
            "Enlace: https://www.instagram.com/elespectador\n",
            "Texto: Login • Instagram...\n",
            "\n",
            "Enlace: https://www.youtube.com/user/Elespectadorcom\n",
            "Texto: El Espectador - YouTubeAboutPressCopyrightContact usCreatorsAdvertiseDevelopersTermsPrivacyPolicy & SafetyHow YouTube worksTest new featuresNFL Sunday Ticket© 2024 Google LLC...\n",
            "\n",
            "Enlace: https://www.tiktok.com/@elespectador\n",
            "Texto: TikTok - Make Your Day...\n",
            "\n",
            "Enlace: https://whatsapp.com/channel/0029VZzbXdXLSmbdQGUY8H02\n",
            "Texto: El Espectador Noticias | WhatsApp ChannelSkip to contentHomeFeaturesMessage privatelyStay connectedBuild communityExpress yourselfWhatsApp for businessPrivacyHelp CenterBlogFor BusinessDownloadDownloa...\n",
            "\n",
            "Enlace: https://twitter.com/elespectador\n",
            "Texto: x.com...\n",
            "\n",
            "Enlace: https://www.facebook.com/elespectadorcom\n",
            "Texto: El Espectador | Bogotá...\n",
            "\n",
            "Enlace: https://www.instagram.com/elespectador/\n",
            "Texto: Login • Instagram...\n",
            "\n",
            "Enlace: https://www.youtube.com/user/Elespectadorcom?sub_confirmation=1\n",
            "Texto: El Espectador - YouTubeAboutPressCopyrightContact usCreatorsAdvertiseDevelopersTermsPrivacyPolicy & SafetyHow YouTube worksTest new featuresNFL Sunday Ticket© 2024 Google LLC...\n",
            "\n",
            "Enlace: https://www.tiktok.com/@elespectador\n",
            "Texto: TikTok - Make Your Day...\n",
            "\n",
            "Enlace: https://suscripciones.elespectador.com/\n",
            "Texto: Suscripciones Impresas El Espectador – Sitio de Suscripciones Impresas de El EspectadorSaltar al contenidoCarrito0Menú de navegaciónMenú de navegaciónInicioCarritoFinalizar compraOtros ProductosBuscar...\n",
            "\n",
            "Enlace: https://api.whatsapp.com/send/?phone=576014232300&text&app_absent=0\n",
            "Texto: Share on WhatsAppSkip to contentHomeFeaturesMessage privatelyStay connectedBuild communityExpress yourselfWhatsApp for businessPrivacyHelp CenterBlogFor BusinessDownloadDownloadTerms & Privacy Policy2...\n",
            "\n",
            "Enlace: https://www.caracoltv.com/regias/famosos?utm_source=elespectador.com&utm_medium=referral&utm_campaign=footer-EE\n",
            "Texto: Noticias de los Famosos, videos, fotos y contenido - Caracol TVPublicidadPublicidadPublicidadjueves 11 de diciembre, 2025Tu Nos Ves, Caracol Te VeProgramasEntretenimientoProgramaciónGOL CARACOLNOTICIA...\n",
            "\n",
            "Enlace: https://noticias.caracoltv.com/colombia?utm_source=elespectador.com&utm_medium=referral&utm_campaign=footer-EE\n",
            "Texto: Principales noticias de Colombia y sus ciudades - NoticiasCaracolPublicidadPublicidadPublicidadjueves 11 de diciembre, 2025Primero la genteCOLOMBIAGOL CARACOLPOLÍTICAUNIDAD INVESTIGATIVAECONOMÍAREPORT...\n",
            "\n",
            "Enlace: https://gol.caracoltv.com/noticias-futbol?utm_source=elespectador.com&utm_medium=referral&utm_campaign=footer-EE\n",
            "Texto: Partidos hoy: Últimas noticias en Gol CaracolAdvertisementAdvertisementAdvertisementÚltimas noticasGol CaracolUnidad InvestigativaNoticias Caracol En VivoInformativosjueves 11 de diciembre, 2025Todo e...\n",
            "\n",
            "Enlace: https://www.bluradio.com/bogota?utm_source=elespectador.com&utm_medium=referral&utm_campaign=footer-EE\n",
            "Texto: Noticias de Bogotá: videos, fotos y artículos de Bogotá - Blu RadioPublicidadPublicidadPublicidadEn vivoSeñal visual radioEntrada de búsquedaEnviar búsquedaProgramaciónNaciónBogotáPolíticaEconomíaEspe...\n",
            "\n",
            "Enlace: https://www.shock.co/musica/?utm_source=elespectador.com&utm_medium=referral&utm_campaign=footer-EE\n",
            "Texto: Noticias de música, lanzamientos musicales, artistas y mucho más - Shock.coEntrada de búsquedaEnviar búsquedaMúsicaCine + TVCultura PopCreadoresEventosVideojuegosTendencias:FEP 2025La Prueba: conversa...\n",
            "\n",
            "Enlace: https://lakalle.bluradio.com/noticias?utm_source=elespectador.com&utm_medium=referral&utm_campaign=footer-EE\n",
            "Texto: Noticias de la música popular, artistas y mucho más - La KallePublicidadPublicidadPublicidadEn vivoMira todos nuestros programasEntrada de búsquedaEnviar búsquedaProgramasNoticiasViralesInformación de...\n",
            "\n",
            "Enlace: https://hjck.com/?utm_source=elespectador.com&utm_medium=referral&utm_campaign=footer-EE\n",
            "Texto: HJCK en vivo: la emisora cultural de Colombia - Música ClásicaPublicidadPublicidadPublicidadEntrada de búsquedaEnviar búsquedaSeñal en vivoPodcastReportajesMúsicaLiteraturaLa VorágineCine + arteLos ec...\n",
            "\n",
            "Enlace: https://www.volkgames.com/noticias/?utm_source=elespectador.com&utm_medium=referral&utm_campaign=footer-EE\n",
            "Texto: Últimas Noticias de Videojuegos en Colombia y el Mundo en Volk - Noticias CaracolPublicidadPublicidadPublicidadviernes 13 de diciembre, 2024Primero la genteCOLOMBIAGOL CARACOLPOLÍTICAUNIDAD INVESTIGAT...\n",
            "\n",
            "Enlace: https://play.caracoltv.com/series?utm_source=elespectador.com&utm_medium=referral&utm_campaign=footer-EE\n",
            "Texto: Caracol PlayÂ¡Ahora encuentra nuestrocatÃ¡logo enwww.caracoltv.com!Â¡Ahora encuentranuestro catÃ¡logo enwww.caracoltv.com!Disfruta las series, novelas y realities de Caracol TelevisiÃ³n desde cualquie...\n",
            "\n",
            "Enlace: https://www.caracolinternacional.com/?utm_source=elespectador.com&utm_medium=referral&utm_campaign=footer-EE\n",
            "Texto: LenguajesEspañolEnglishCatálogoServicios de producciónNoticiasEventosNosotrosIngresarCatálogoServicios de producciónNoticiasEventosNosotrosESEnglishEspañolIngresarESEnglishEspañolIngresarProducciones ...\n",
            "\n",
            "Enlace: https://www.iabcolombia.com/\n",
            "Texto: Interactive Advertising Bureau | IAB ColombiaIr al contenidoQué es IABAfiliacionesIAB AcademyInvestigacionesEventosIAB DayIAB Digital DayIAB Mixx AwardsIAB Digital SessionsIAB TechActualidadMenúQué es...\n",
            "\n",
            "Enlace: https://www.sic.gov.co/\n",
            "Texto: Superintendencia de Industria y ComercioPasar al contenido principalSuperintendencia de Industria y ComercioTop barIr a GovCologo presidenciaFormulario de búsquedaBuscarInicioTransparencia y acceso a ...\n",
            "\n",
            "Enlace: https://ami.org.co/\n",
            "Texto: Inicio | AMIPasar al contenido principalMenú¿Quiénes somos?AfiliadosManifiestoRedefiniendo la publicidad digitalPreviousNextImageLa apuesta de DPG Media por la independencia publicitariaDPG Media, una...\n",
            "\n"
          ]
        }
      ]
    },
    {
      "cell_type": "markdown",
      "source": [
        "# **ENTRENAMIENTO DEL MODELO**"
      ],
      "metadata": {
        "id": "xaodZ-u3BuL2"
      }
    },
    {
      "cell_type": "code",
      "source": [
        "#Importamos las librerias necesarias para realizar el respectivo entrenamiento del modelo y el prepocesamiento del texto\n",
        "import os\n",
        "from sklearn.feature_extraction.text import TfidfVectorizer\n",
        "from sklearn.naive_bayes import MultinomialNB\n",
        "from sklearn.pipeline import make_pipeline\n",
        "from sklearn.metrics import classification_report, accuracy_score, confusion_matrix\n",
        "from nltk.corpus import stopwords\n",
        "from nltk.tokenize import word_tokenize\n",
        "from nltk.stem.snowball import SnowballStemmer\n",
        "import string\n",
        "import nltk\n",
        "\n",
        "import matplotlib.pyplot as plt\n",
        "import seaborn as sns"
      ],
      "metadata": {
        "id": "3Uk0m_Nz9Eqv"
      },
      "execution_count": null,
      "outputs": []
    },
    {
      "cell_type": "code",
      "source": [
        "nltk.download('punkt_tab')\n",
        "nltk.download('punkt')\n",
        "nltk.download('stopwords')"
      ],
      "metadata": {
        "id": "jTdfYPjdBgA-",
        "colab": {
          "base_uri": "https://localhost:8080/"
        },
        "outputId": "afae7e0c-1de2-4d23-a449-ffe114258ff0"
      },
      "execution_count": null,
      "outputs": [
        {
          "output_type": "stream",
          "name": "stderr",
          "text": [
            "[nltk_data] Downloading package punkt_tab to /root/nltk_data...\n",
            "[nltk_data]   Package punkt_tab is already up-to-date!\n",
            "[nltk_data] Downloading package punkt to /root/nltk_data...\n",
            "[nltk_data]   Package punkt is already up-to-date!\n",
            "[nltk_data] Downloading package stopwords to /root/nltk_data...\n",
            "[nltk_data]   Package stopwords is already up-to-date!\n"
          ]
        },
        {
          "output_type": "execute_result",
          "data": {
            "text/plain": [
              "True"
            ]
          },
          "metadata": {},
          "execution_count": 49
        }
      ]
    },
    {
      "cell_type": "code",
      "source": [
        "# --- Configuración global ---\n",
        "STOPWORDS = set()\n",
        "STEMMER = SnowballStemmer(\"spanish\")"
      ],
      "metadata": {
        "id": "WYj00YpfBiln"
      },
      "execution_count": null,
      "outputs": []
    },
    {
      "cell_type": "code",
      "source": [
        "# --- Definimos una función para cargar stopwords desde un archivo ---\n",
        "def load_stopwords(file_path):\n",
        "    global STOPWORDS\n",
        "    try:\n",
        "        with open(file_path, 'r', encoding='utf-8') as file:\n",
        "            STOPWORDS = set(word.strip() for word in file.readlines())\n",
        "    except FileNotFoundError:\n",
        "        print(f\"Archivo de stopwords no encontrado: {file_path}\")"
      ],
      "metadata": {
        "id": "0xqlWMvYGwqZ"
      },
      "execution_count": null,
      "outputs": []
    },
    {
      "cell_type": "code",
      "source": [
        "# --- Definimos una función para preprocesar el texto ---\n",
        "def preprocess_text(text):\n",
        "    # Convertir a minúsculas\n",
        "    text = text.lower()\n",
        "    # Eliminar puntuación\n",
        "    text = text.translate(str.maketrans('', '', string.punctuation))\n",
        "    # Tokenizar el texto\n",
        "    tokens = word_tokenize(text)\n",
        "    # Eliminar stopwords\n",
        "    tokens = [word for word in tokens if word not in STOPWORDS]\n",
        "    # Aplicar stemming\n",
        "    tokens = [STEMMER.stem(word) for word in tokens]\n",
        "    return ' '.join(tokens)"
      ],
      "metadata": {
        "id": "iOZQhBD3BnRf"
      },
      "execution_count": null,
      "outputs": []
    },
    {
      "cell_type": "code",
      "source": [
        "# --- Función para cargar datos de entrenamiento desde carpetas ---\n",
        "def load_training_data(data_dir):\n",
        "    texts = []\n",
        "    labels = []\n",
        "    for category in os.listdir(data_dir):\n",
        "        category_path = os.path.join(data_dir, category)\n",
        "        if os.path.isdir(category_path):\n",
        "            for filename in os.listdir(category_path):\n",
        "                file_path = os.path.join(category_path, filename)\n",
        "                if filename.endswith('.txt'):\n",
        "                    with open(file_path, 'r', encoding='utf-8') as file:\n",
        "                        text = file.read()\n",
        "                        texts.append(preprocess_text(text))\n",
        "                        labels.append(category)\n",
        "    return texts, labels\n"
      ],
      "metadata": {
        "id": "NP06ghygBrHW"
      },
      "execution_count": null,
      "outputs": []
    },
    {
      "cell_type": "code",
      "source": [
        "# --- Función para entrenar el modelo de clasificación ---\n",
        "def train_classifier(data_dir):\n",
        "    texts, labels = load_training_data(data_dir)\n",
        "\n",
        "    # Crear pipeline de preprocesamiento y clasificación\n",
        "    model = make_pipeline(\n",
        "        TfidfVectorizer(),\n",
        "        MultinomialNB()\n",
        "    )\n",
        "    model.fit(texts, labels)\n",
        "    return model, texts, labels"
      ],
      "metadata": {
        "id": "NIZjhwdfDrpH"
      },
      "execution_count": null,
      "outputs": []
    },
    {
      "cell_type": "code",
      "source": [
        "# --- Función para clasificar una noticia ---\n",
        "def classify_news(model, content):\n",
        "    processed_content = preprocess_text(content)\n",
        "    category = model.predict([processed_content])[0]\n",
        "    return category\n"
      ],
      "metadata": {
        "id": "Nf6Ko34rDuHJ"
      },
      "execution_count": null,
      "outputs": []
    },
    {
      "cell_type": "code",
      "source": [
        "# --- Función para calcular métricas ---\n",
        "def evaluate_model(model, texts, labels):\n",
        "    predictions = model.predict(texts)\n",
        "    print(\"\\n--- Métricas del modelo ---\")\n",
        "    print(f\"Accuracy: {accuracy_score(labels, predictions):.4f}\")\n",
        "    print(\"\\nClassification Report:\")\n",
        "    print(classification_report(labels, predictions))\n",
        "    print(\"\\nConfusion Matrix:\")\n",
        "    cm = confusion_matrix(labels, predictions)\n",
        "    plot_confusion_matrix(cm, model.classes_)"
      ],
      "metadata": {
        "id": "C3WYbKaeFNSw"
      },
      "execution_count": null,
      "outputs": []
    },
    {
      "cell_type": "code",
      "source": [
        "# --- Función para graficar la matriz de confusión ---\n",
        "def plot_confusion_matrix(cm, class_names):\n",
        "    plt.figure(figsize=(10, 7))\n",
        "    sns.heatmap(cm, annot=True, fmt='d', cmap='Blues', xticklabels=class_names, yticklabels=class_names)\n",
        "    plt.xlabel('Predicted Labels')\n",
        "    plt.ylabel('True Labels')\n",
        "    plt.title('Confusion Matrix')\n",
        "    plt.show()"
      ],
      "metadata": {
        "id": "u-c0SGdwJmnB"
      },
      "execution_count": null,
      "outputs": []
    },
    {
      "cell_type": "code",
      "source": [
        "# Ruta al archivo de stopwords\n",
        "stopwords_file = \"/content/drive/MyDrive/Mineria de datos/dictionary/spanish-stop-words-sin-tildes.txt\"\n",
        "load_stopwords(stopwords_file)\n",
        "\n",
        "# Directorio con datos de entrenamiento\n",
        "training_data_dir = \"/content/drive/MyDrive/Mineria de datos/trainingdata\"\n",
        "\n",
        "# Entrenar el modelo\n",
        "model, train_texts, train_labels = train_classifier(training_data_dir)\n",
        "\n",
        "# Evaluar el modelo\n",
        "evaluate_model(model, train_texts, train_labels)\n",
        "\n",
        "# Clasificar una noticia nueva\n",
        "sample_news = \"Texto de ejemplo de una noticia para clasificar.\"\n",
        "category = classify_news(model, content)\n",
        "print(f\"\\nLa noticia pertenece a la categoría: {category}\")"
      ],
      "metadata": {
        "id": "DsJpooAsGF8s",
        "colab": {
          "base_uri": "https://localhost:8080/",
          "height": 971
        },
        "outputId": "251d2ecd-2d35-4f6a-bdc5-f9b861fa7f70"
      },
      "execution_count": null,
      "outputs": [
        {
          "output_type": "stream",
          "name": "stdout",
          "text": [
            "\n",
            "--- Métricas del modelo ---\n",
            "Accuracy: 0.9556\n",
            "\n",
            "Classification Report:\n",
            "              precision    recall  f1-score   support\n",
            "\n",
            "     Deporte       1.00      1.00      1.00        15\n",
            "    Politica       0.91      1.00      0.95        20\n",
            "  Tecnologia       1.00      0.80      0.89        10\n",
            "\n",
            "    accuracy                           0.96        45\n",
            "   macro avg       0.97      0.93      0.95        45\n",
            "weighted avg       0.96      0.96      0.95        45\n",
            "\n",
            "\n",
            "Confusion Matrix:\n"
          ]
        },
        {
          "output_type": "display_data",
          "data": {
            "text/plain": [
              "<Figure size 1000x700 with 2 Axes>"
            ],
            "image/png": "[encoded data removed]"
          },
          "metadata": {}
        },
        {
          "output_type": "stream",
          "name": "stdout",
          "text": [
            "\n",
            "La noticia pertenece a la categoría: Politica\n"
          ]
        }
      ]
    },
    {
      "cell_type": "markdown",
      "source": [
        "# **CONCLUSIÓN**\n",
        "El modelo presenta un accuracy del 95% aunque se observa en la matriz de confusion que hay algunos predicciones que no son acertadas, ademas, se deberia el modelo entrenar con mas datos y diferentes palabras para que las pueda predecir mejor."
      ],
      "metadata": {
        "id": "R0pUio5SXz6J"
      }
    },
    {
      "cell_type": "markdown",
      "source": [],
      "metadata": {
        "id": "myVR61s1KYzo"
      }
    }
  ]
}